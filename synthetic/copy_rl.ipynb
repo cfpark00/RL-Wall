{
 "cells": [
  {
   "cell_type": "code",
   "execution_count": 4,
   "metadata": {},
   "outputs": [],
   "source": [
    "import glob\n",
    "import os\n",
    "import subprocess\n",
    "import shutil"
   ]
  },
  {
   "cell_type": "code",
   "execution_count": 7,
   "metadata": {},
   "outputs": [
    {
     "name": "stderr",
     "output_type": "stream",
     "text": [
      "100%|██████████| 40/40 [00:00<00:00, 10343.54it/s]\n",
      "Sliding Window Attention is enabled but not implemented for `sdpa`; unexpected results may be encountered.\n",
      "  0%|          | 0/1 [00:00<?, ?it/s]\n",
      "Traceback (most recent call last):\n",
      "  File \"/n/home12/cfpark00/ML/llm-meta-rl/verl/scripts/save_hf.py\", line 41, in <module>\n",
      "    raise ValueError(f\"Save path {out_save_path} already exists.\")\n",
      "ValueError: Save path /n/home12/cfpark00/ML/llm-meta-rl/data/verl/grpo_toy_multistep/v5_16/global_step_160/actor/state_dict-hf already exists.\n",
      "Sliding Window Attention is enabled but not implemented for `sdpa`; unexpected results may be encountered.\n",
      "  0%|          | 0/1 [00:00<?, ?it/s]\n",
      "Traceback (most recent call last):\n",
      "  File \"/n/home12/cfpark00/ML/llm-meta-rl/verl/scripts/save_hf.py\", line 41, in <module>\n",
      "    raise ValueError(f\"Save path {out_save_path} already exists.\")\n",
      "ValueError: Save path /n/home12/cfpark00/ML/llm-meta-rl/data/verl/grpo_toy_multistep/v5_16/global_step_280/actor/state_dict-hf already exists.\n",
      "Sliding Window Attention is enabled but not implemented for `sdpa`; unexpected results may be encountered.\n",
      "  0%|          | 0/1 [00:00<?, ?it/s]\n",
      "Traceback (most recent call last):\n",
      "  File \"/n/home12/cfpark00/ML/llm-meta-rl/verl/scripts/save_hf.py\", line 41, in <module>\n",
      "    raise ValueError(f\"Save path {out_save_path} already exists.\")\n",
      "ValueError: Save path /n/home12/cfpark00/ML/llm-meta-rl/data/verl/grpo_toy_multistep/v5_16/global_step_60/actor/state_dict-hf already exists.\n",
      "Sliding Window Attention is enabled but not implemented for `sdpa`; unexpected results may be encountered.\n",
      "  0%|          | 0/1 [00:00<?, ?it/s]\n",
      "Traceback (most recent call last):\n",
      "  File \"/n/home12/cfpark00/ML/llm-meta-rl/verl/scripts/save_hf.py\", line 41, in <module>\n",
      "    raise ValueError(f\"Save path {out_save_path} already exists.\")\n",
      "ValueError: Save path /n/home12/cfpark00/ML/llm-meta-rl/data/verl/grpo_toy_multistep/v5_16/global_step_320/actor/state_dict-hf already exists.\n",
      "Sliding Window Attention is enabled but not implemented for `sdpa`; unexpected results may be encountered.\n",
      "  0%|          | 0/1 [00:00<?, ?it/s]"
     ]
    },
    {
     "name": "stdout",
     "output_type": "stream",
     "text": [
      "Processed /n/home12/cfpark00/ML/llm-meta-rl/data/verl/grpo_toy_multistep/v5_16/global_step_50/actor/state_dict.pt -> /n/home12/cfpark00/ML/llm-meta-rl/data/verl/grpo_toy_multistep/v5_16/global_step_50/actor/state_dict-hf\n"
     ]
    },
    {
     "name": "stderr",
     "output_type": "stream",
     "text": [
      "100%|██████████| 1/1 [00:00<00:00,  1.63it/s]\n",
      "Sliding Window Attention is enabled but not implemented for `sdpa`; unexpected results may be encountered.\n",
      "  0%|          | 0/1 [00:00<?, ?it/s]"
     ]
    },
    {
     "name": "stdout",
     "output_type": "stream",
     "text": [
      "Processed /n/home12/cfpark00/ML/llm-meta-rl/data/verl/grpo_toy_multistep/v5_16/global_step_170/actor/state_dict.pt -> /n/home12/cfpark00/ML/llm-meta-rl/data/verl/grpo_toy_multistep/v5_16/global_step_170/actor/state_dict-hf\n"
     ]
    },
    {
     "name": "stderr",
     "output_type": "stream",
     "text": [
      "100%|██████████| 1/1 [00:00<00:00,  2.50it/s]\n",
      "Sliding Window Attention is enabled but not implemented for `sdpa`; unexpected results may be encountered.\n",
      "  0%|          | 0/1 [00:00<?, ?it/s]"
     ]
    },
    {
     "name": "stdout",
     "output_type": "stream",
     "text": [
      "Processed /n/home12/cfpark00/ML/llm-meta-rl/data/verl/grpo_toy_multistep/v5_16/global_step_90/actor/state_dict.pt -> /n/home12/cfpark00/ML/llm-meta-rl/data/verl/grpo_toy_multistep/v5_16/global_step_90/actor/state_dict-hf\n"
     ]
    },
    {
     "name": "stderr",
     "output_type": "stream",
     "text": [
      "100%|██████████| 1/1 [00:00<00:00,  2.36it/s]\n",
      "Sliding Window Attention is enabled but not implemented for `sdpa`; unexpected results may be encountered.\n",
      "  0%|          | 0/1 [00:00<?, ?it/s]"
     ]
    },
    {
     "name": "stdout",
     "output_type": "stream",
     "text": [
      "Processed /n/home12/cfpark00/ML/llm-meta-rl/data/verl/grpo_toy_multistep/v5_16/global_step_380/actor/state_dict.pt -> /n/home12/cfpark00/ML/llm-meta-rl/data/verl/grpo_toy_multistep/v5_16/global_step_380/actor/state_dict-hf\n"
     ]
    },
    {
     "name": "stderr",
     "output_type": "stream",
     "text": [
      "100%|██████████| 1/1 [00:00<00:00,  2.37it/s]\n",
      "Sliding Window Attention is enabled but not implemented for `sdpa`; unexpected results may be encountered.\n",
      "  0%|          | 0/1 [00:00<?, ?it/s]"
     ]
    },
    {
     "name": "stdout",
     "output_type": "stream",
     "text": [
      "Processed /n/home12/cfpark00/ML/llm-meta-rl/data/verl/grpo_toy_multistep/v5_16/global_step_360/actor/state_dict.pt -> /n/home12/cfpark00/ML/llm-meta-rl/data/verl/grpo_toy_multistep/v5_16/global_step_360/actor/state_dict-hf\n"
     ]
    },
    {
     "name": "stderr",
     "output_type": "stream",
     "text": [
      "100%|██████████| 1/1 [00:00<00:00,  2.54it/s]\n",
      "Sliding Window Attention is enabled but not implemented for `sdpa`; unexpected results may be encountered.\n",
      "  0%|          | 0/1 [00:00<?, ?it/s]"
     ]
    },
    {
     "name": "stdout",
     "output_type": "stream",
     "text": [
      "Processed /n/home12/cfpark00/ML/llm-meta-rl/data/verl/grpo_toy_multistep/v5_16/global_step_270/actor/state_dict.pt -> /n/home12/cfpark00/ML/llm-meta-rl/data/verl/grpo_toy_multistep/v5_16/global_step_270/actor/state_dict-hf\n"
     ]
    },
    {
     "name": "stderr",
     "output_type": "stream",
     "text": [
      "100%|██████████| 1/1 [00:00<00:00,  2.49it/s]\n",
      "Sliding Window Attention is enabled but not implemented for `sdpa`; unexpected results may be encountered.\n",
      "  0%|          | 0/1 [00:00<?, ?it/s]"
     ]
    },
    {
     "name": "stdout",
     "output_type": "stream",
     "text": [
      "Processed /n/home12/cfpark00/ML/llm-meta-rl/data/verl/grpo_toy_multistep/v5_16/global_step_260/actor/state_dict.pt -> /n/home12/cfpark00/ML/llm-meta-rl/data/verl/grpo_toy_multistep/v5_16/global_step_260/actor/state_dict-hf\n"
     ]
    },
    {
     "name": "stderr",
     "output_type": "stream",
     "text": [
      "100%|██████████| 1/1 [00:00<00:00,  2.45it/s]\n",
      "Sliding Window Attention is enabled but not implemented for `sdpa`; unexpected results may be encountered.\n",
      "  0%|          | 0/1 [00:00<?, ?it/s]"
     ]
    },
    {
     "name": "stdout",
     "output_type": "stream",
     "text": [
      "Processed /n/home12/cfpark00/ML/llm-meta-rl/data/verl/grpo_toy_multistep/v5_16/global_step_400/actor/state_dict.pt -> /n/home12/cfpark00/ML/llm-meta-rl/data/verl/grpo_toy_multistep/v5_16/global_step_400/actor/state_dict-hf\n"
     ]
    },
    {
     "name": "stderr",
     "output_type": "stream",
     "text": [
      "100%|██████████| 1/1 [00:00<00:00,  2.53it/s]\n",
      "Sliding Window Attention is enabled but not implemented for `sdpa`; unexpected results may be encountered.\n",
      "  0%|          | 0/1 [00:00<?, ?it/s]"
     ]
    },
    {
     "name": "stdout",
     "output_type": "stream",
     "text": [
      "Processed /n/home12/cfpark00/ML/llm-meta-rl/data/verl/grpo_toy_multistep/v5_16/global_step_390/actor/state_dict.pt -> /n/home12/cfpark00/ML/llm-meta-rl/data/verl/grpo_toy_multistep/v5_16/global_step_390/actor/state_dict-hf\n"
     ]
    },
    {
     "name": "stderr",
     "output_type": "stream",
     "text": [
      "100%|██████████| 1/1 [00:00<00:00,  2.51it/s]\n",
      "Sliding Window Attention is enabled but not implemented for `sdpa`; unexpected results may be encountered.\n",
      "  0%|          | 0/1 [00:00<?, ?it/s]"
     ]
    },
    {
     "name": "stdout",
     "output_type": "stream",
     "text": [
      "Processed /n/home12/cfpark00/ML/llm-meta-rl/data/verl/grpo_toy_multistep/v5_16/global_step_330/actor/state_dict.pt -> /n/home12/cfpark00/ML/llm-meta-rl/data/verl/grpo_toy_multistep/v5_16/global_step_330/actor/state_dict-hf\n"
     ]
    },
    {
     "name": "stderr",
     "output_type": "stream",
     "text": [
      "100%|██████████| 1/1 [00:00<00:00,  2.34it/s]\n",
      "Sliding Window Attention is enabled but not implemented for `sdpa`; unexpected results may be encountered.\n",
      "  0%|          | 0/1 [00:00<?, ?it/s]"
     ]
    },
    {
     "name": "stdout",
     "output_type": "stream",
     "text": [
      "Processed /n/home12/cfpark00/ML/llm-meta-rl/data/verl/grpo_toy_multistep/v5_16/global_step_70/actor/state_dict.pt -> /n/home12/cfpark00/ML/llm-meta-rl/data/verl/grpo_toy_multistep/v5_16/global_step_70/actor/state_dict-hf\n"
     ]
    },
    {
     "name": "stderr",
     "output_type": "stream",
     "text": [
      "100%|██████████| 1/1 [00:00<00:00,  2.45it/s]\n",
      "Sliding Window Attention is enabled but not implemented for `sdpa`; unexpected results may be encountered.\n",
      "  0%|          | 0/1 [00:00<?, ?it/s]"
     ]
    },
    {
     "name": "stdout",
     "output_type": "stream",
     "text": [
      "Processed /n/home12/cfpark00/ML/llm-meta-rl/data/verl/grpo_toy_multistep/v5_16/global_step_240/actor/state_dict.pt -> /n/home12/cfpark00/ML/llm-meta-rl/data/verl/grpo_toy_multistep/v5_16/global_step_240/actor/state_dict-hf\n"
     ]
    },
    {
     "name": "stderr",
     "output_type": "stream",
     "text": [
      "100%|██████████| 1/1 [00:00<00:00,  2.36it/s]\n",
      "Sliding Window Attention is enabled but not implemented for `sdpa`; unexpected results may be encountered.\n",
      "  0%|          | 0/1 [00:00<?, ?it/s]"
     ]
    },
    {
     "name": "stdout",
     "output_type": "stream",
     "text": [
      "Processed /n/home12/cfpark00/ML/llm-meta-rl/data/verl/grpo_toy_multistep/v5_16/global_step_190/actor/state_dict.pt -> /n/home12/cfpark00/ML/llm-meta-rl/data/verl/grpo_toy_multistep/v5_16/global_step_190/actor/state_dict-hf\n"
     ]
    },
    {
     "name": "stderr",
     "output_type": "stream",
     "text": [
      "100%|██████████| 1/1 [00:00<00:00,  2.44it/s]\n",
      "Sliding Window Attention is enabled but not implemented for `sdpa`; unexpected results may be encountered.\n",
      "  0%|          | 0/1 [00:00<?, ?it/s]"
     ]
    },
    {
     "name": "stdout",
     "output_type": "stream",
     "text": [
      "Processed /n/home12/cfpark00/ML/llm-meta-rl/data/verl/grpo_toy_multistep/v5_16/global_step_300/actor/state_dict.pt -> /n/home12/cfpark00/ML/llm-meta-rl/data/verl/grpo_toy_multistep/v5_16/global_step_300/actor/state_dict-hf\n"
     ]
    },
    {
     "name": "stderr",
     "output_type": "stream",
     "text": [
      "100%|██████████| 1/1 [00:00<00:00,  2.34it/s]\n",
      "Sliding Window Attention is enabled but not implemented for `sdpa`; unexpected results may be encountered.\n",
      "  0%|          | 0/1 [00:00<?, ?it/s]"
     ]
    },
    {
     "name": "stdout",
     "output_type": "stream",
     "text": [
      "Processed /n/home12/cfpark00/ML/llm-meta-rl/data/verl/grpo_toy_multistep/v5_16/global_step_10/actor/state_dict.pt -> /n/home12/cfpark00/ML/llm-meta-rl/data/verl/grpo_toy_multistep/v5_16/global_step_10/actor/state_dict-hf\n"
     ]
    },
    {
     "name": "stderr",
     "output_type": "stream",
     "text": [
      "100%|██████████| 1/1 [00:00<00:00,  2.42it/s]\n",
      "Sliding Window Attention is enabled but not implemented for `sdpa`; unexpected results may be encountered.\n",
      "  0%|          | 0/1 [00:00<?, ?it/s]"
     ]
    },
    {
     "name": "stdout",
     "output_type": "stream",
     "text": [
      "Processed /n/home12/cfpark00/ML/llm-meta-rl/data/verl/grpo_toy_multistep/v5_16/global_step_40/actor/state_dict.pt -> /n/home12/cfpark00/ML/llm-meta-rl/data/verl/grpo_toy_multistep/v5_16/global_step_40/actor/state_dict-hf\n"
     ]
    },
    {
     "name": "stderr",
     "output_type": "stream",
     "text": [
      "100%|██████████| 1/1 [00:00<00:00,  2.41it/s]\n",
      "Sliding Window Attention is enabled but not implemented for `sdpa`; unexpected results may be encountered.\n",
      "  0%|          | 0/1 [00:00<?, ?it/s]"
     ]
    },
    {
     "name": "stdout",
     "output_type": "stream",
     "text": [
      "Processed /n/home12/cfpark00/ML/llm-meta-rl/data/verl/grpo_toy_multistep/v5_16/global_step_100/actor/state_dict.pt -> /n/home12/cfpark00/ML/llm-meta-rl/data/verl/grpo_toy_multistep/v5_16/global_step_100/actor/state_dict-hf\n"
     ]
    },
    {
     "name": "stderr",
     "output_type": "stream",
     "text": [
      "100%|██████████| 1/1 [00:00<00:00,  2.31it/s]\n",
      "Sliding Window Attention is enabled but not implemented for `sdpa`; unexpected results may be encountered.\n",
      "  0%|          | 0/1 [00:00<?, ?it/s]"
     ]
    },
    {
     "name": "stdout",
     "output_type": "stream",
     "text": [
      "Processed /n/home12/cfpark00/ML/llm-meta-rl/data/verl/grpo_toy_multistep/v5_16/global_step_120/actor/state_dict.pt -> /n/home12/cfpark00/ML/llm-meta-rl/data/verl/grpo_toy_multistep/v5_16/global_step_120/actor/state_dict-hf\n"
     ]
    },
    {
     "name": "stderr",
     "output_type": "stream",
     "text": [
      "100%|██████████| 1/1 [00:00<00:00,  2.47it/s]\n",
      "Sliding Window Attention is enabled but not implemented for `sdpa`; unexpected results may be encountered.\n",
      "  0%|          | 0/1 [00:00<?, ?it/s]"
     ]
    },
    {
     "name": "stdout",
     "output_type": "stream",
     "text": [
      "Processed /n/home12/cfpark00/ML/llm-meta-rl/data/verl/grpo_toy_multistep/v5_16/global_step_200/actor/state_dict.pt -> /n/home12/cfpark00/ML/llm-meta-rl/data/verl/grpo_toy_multistep/v5_16/global_step_200/actor/state_dict-hf\n"
     ]
    },
    {
     "name": "stderr",
     "output_type": "stream",
     "text": [
      "100%|██████████| 1/1 [00:00<00:00,  2.46it/s]\n",
      "Sliding Window Attention is enabled but not implemented for `sdpa`; unexpected results may be encountered.\n",
      "  0%|          | 0/1 [00:00<?, ?it/s]"
     ]
    },
    {
     "name": "stdout",
     "output_type": "stream",
     "text": [
      "Processed /n/home12/cfpark00/ML/llm-meta-rl/data/verl/grpo_toy_multistep/v5_16/global_step_310/actor/state_dict.pt -> /n/home12/cfpark00/ML/llm-meta-rl/data/verl/grpo_toy_multistep/v5_16/global_step_310/actor/state_dict-hf\n"
     ]
    },
    {
     "name": "stderr",
     "output_type": "stream",
     "text": [
      "100%|██████████| 1/1 [00:00<00:00,  2.18it/s]\n",
      "Sliding Window Attention is enabled but not implemented for `sdpa`; unexpected results may be encountered.\n",
      "  0%|          | 0/1 [00:00<?, ?it/s]"
     ]
    },
    {
     "name": "stdout",
     "output_type": "stream",
     "text": [
      "Processed /n/home12/cfpark00/ML/llm-meta-rl/data/verl/grpo_toy_multistep/v5_16/global_step_220/actor/state_dict.pt -> /n/home12/cfpark00/ML/llm-meta-rl/data/verl/grpo_toy_multistep/v5_16/global_step_220/actor/state_dict-hf\n"
     ]
    },
    {
     "name": "stderr",
     "output_type": "stream",
     "text": [
      "100%|██████████| 1/1 [00:00<00:00,  2.44it/s]\n",
      "Sliding Window Attention is enabled but not implemented for `sdpa`; unexpected results may be encountered.\n",
      "  0%|          | 0/1 [00:00<?, ?it/s]"
     ]
    },
    {
     "name": "stdout",
     "output_type": "stream",
     "text": [
      "Processed /n/home12/cfpark00/ML/llm-meta-rl/data/verl/grpo_toy_multistep/v5_16/global_step_130/actor/state_dict.pt -> /n/home12/cfpark00/ML/llm-meta-rl/data/verl/grpo_toy_multistep/v5_16/global_step_130/actor/state_dict-hf\n"
     ]
    },
    {
     "name": "stderr",
     "output_type": "stream",
     "text": [
      "100%|██████████| 1/1 [00:00<00:00,  2.46it/s]\n",
      "Sliding Window Attention is enabled but not implemented for `sdpa`; unexpected results may be encountered.\n",
      "  0%|          | 0/1 [00:00<?, ?it/s]"
     ]
    },
    {
     "name": "stdout",
     "output_type": "stream",
     "text": [
      "Processed /n/home12/cfpark00/ML/llm-meta-rl/data/verl/grpo_toy_multistep/v5_16/global_step_210/actor/state_dict.pt -> /n/home12/cfpark00/ML/llm-meta-rl/data/verl/grpo_toy_multistep/v5_16/global_step_210/actor/state_dict-hf\n"
     ]
    },
    {
     "name": "stderr",
     "output_type": "stream",
     "text": [
      "100%|██████████| 1/1 [00:00<00:00,  2.47it/s]\n",
      "Sliding Window Attention is enabled but not implemented for `sdpa`; unexpected results may be encountered.\n",
      "  0%|          | 0/1 [00:00<?, ?it/s]"
     ]
    },
    {
     "name": "stdout",
     "output_type": "stream",
     "text": [
      "Processed /n/home12/cfpark00/ML/llm-meta-rl/data/verl/grpo_toy_multistep/v5_16/global_step_350/actor/state_dict.pt -> /n/home12/cfpark00/ML/llm-meta-rl/data/verl/grpo_toy_multistep/v5_16/global_step_350/actor/state_dict-hf\n"
     ]
    },
    {
     "name": "stderr",
     "output_type": "stream",
     "text": [
      "100%|██████████| 1/1 [00:00<00:00,  2.48it/s]\n",
      "Sliding Window Attention is enabled but not implemented for `sdpa`; unexpected results may be encountered.\n",
      "  0%|          | 0/1 [00:00<?, ?it/s]"
     ]
    },
    {
     "name": "stdout",
     "output_type": "stream",
     "text": [
      "Processed /n/home12/cfpark00/ML/llm-meta-rl/data/verl/grpo_toy_multistep/v5_16/global_step_110/actor/state_dict.pt -> /n/home12/cfpark00/ML/llm-meta-rl/data/verl/grpo_toy_multistep/v5_16/global_step_110/actor/state_dict-hf\n"
     ]
    },
    {
     "name": "stderr",
     "output_type": "stream",
     "text": [
      "100%|██████████| 1/1 [00:00<00:00,  2.48it/s]\n",
      "Sliding Window Attention is enabled but not implemented for `sdpa`; unexpected results may be encountered.\n",
      "  0%|          | 0/1 [00:00<?, ?it/s]"
     ]
    },
    {
     "name": "stdout",
     "output_type": "stream",
     "text": [
      "Processed /n/home12/cfpark00/ML/llm-meta-rl/data/verl/grpo_toy_multistep/v5_16/global_step_230/actor/state_dict.pt -> /n/home12/cfpark00/ML/llm-meta-rl/data/verl/grpo_toy_multistep/v5_16/global_step_230/actor/state_dict-hf\n"
     ]
    },
    {
     "name": "stderr",
     "output_type": "stream",
     "text": [
      "100%|██████████| 1/1 [00:00<00:00,  2.40it/s]\n",
      "Sliding Window Attention is enabled but not implemented for `sdpa`; unexpected results may be encountered.\n",
      "  0%|          | 0/1 [00:00<?, ?it/s]"
     ]
    },
    {
     "name": "stdout",
     "output_type": "stream",
     "text": [
      "Processed /n/home12/cfpark00/ML/llm-meta-rl/data/verl/grpo_toy_multistep/v5_16/global_step_30/actor/state_dict.pt -> /n/home12/cfpark00/ML/llm-meta-rl/data/verl/grpo_toy_multistep/v5_16/global_step_30/actor/state_dict-hf\n"
     ]
    },
    {
     "name": "stderr",
     "output_type": "stream",
     "text": [
      "100%|██████████| 1/1 [00:00<00:00,  2.21it/s]\n",
      "Sliding Window Attention is enabled but not implemented for `sdpa`; unexpected results may be encountered.\n",
      "  0%|          | 0/1 [00:00<?, ?it/s]"
     ]
    },
    {
     "name": "stdout",
     "output_type": "stream",
     "text": [
      "Processed /n/home12/cfpark00/ML/llm-meta-rl/data/verl/grpo_toy_multistep/v5_16/global_step_250/actor/state_dict.pt -> /n/home12/cfpark00/ML/llm-meta-rl/data/verl/grpo_toy_multistep/v5_16/global_step_250/actor/state_dict-hf\n"
     ]
    },
    {
     "name": "stderr",
     "output_type": "stream",
     "text": [
      "100%|██████████| 1/1 [00:00<00:00,  2.37it/s]\n",
      "Sliding Window Attention is enabled but not implemented for `sdpa`; unexpected results may be encountered.\n",
      "  0%|          | 0/1 [00:00<?, ?it/s]"
     ]
    },
    {
     "name": "stdout",
     "output_type": "stream",
     "text": [
      "Processed /n/home12/cfpark00/ML/llm-meta-rl/data/verl/grpo_toy_multistep/v5_16/global_step_370/actor/state_dict.pt -> /n/home12/cfpark00/ML/llm-meta-rl/data/verl/grpo_toy_multistep/v5_16/global_step_370/actor/state_dict-hf\n"
     ]
    },
    {
     "name": "stderr",
     "output_type": "stream",
     "text": [
      "100%|██████████| 1/1 [00:00<00:00,  2.45it/s]\n",
      "Sliding Window Attention is enabled but not implemented for `sdpa`; unexpected results may be encountered.\n",
      "  0%|          | 0/1 [00:00<?, ?it/s]"
     ]
    },
    {
     "name": "stdout",
     "output_type": "stream",
     "text": [
      "Processed /n/home12/cfpark00/ML/llm-meta-rl/data/verl/grpo_toy_multistep/v5_16/global_step_150/actor/state_dict.pt -> /n/home12/cfpark00/ML/llm-meta-rl/data/verl/grpo_toy_multistep/v5_16/global_step_150/actor/state_dict-hf\n"
     ]
    },
    {
     "name": "stderr",
     "output_type": "stream",
     "text": [
      "100%|██████████| 1/1 [00:00<00:00,  2.50it/s]\n",
      "Sliding Window Attention is enabled but not implemented for `sdpa`; unexpected results may be encountered.\n",
      "  0%|          | 0/1 [00:00<?, ?it/s]"
     ]
    },
    {
     "name": "stdout",
     "output_type": "stream",
     "text": [
      "Processed /n/home12/cfpark00/ML/llm-meta-rl/data/verl/grpo_toy_multistep/v5_16/global_step_340/actor/state_dict.pt -> /n/home12/cfpark00/ML/llm-meta-rl/data/verl/grpo_toy_multistep/v5_16/global_step_340/actor/state_dict-hf\n"
     ]
    },
    {
     "name": "stderr",
     "output_type": "stream",
     "text": [
      "100%|██████████| 1/1 [00:00<00:00,  2.43it/s]\n",
      "Sliding Window Attention is enabled but not implemented for `sdpa`; unexpected results may be encountered.\n",
      "  0%|          | 0/1 [00:00<?, ?it/s]"
     ]
    },
    {
     "name": "stdout",
     "output_type": "stream",
     "text": [
      "Processed /n/home12/cfpark00/ML/llm-meta-rl/data/verl/grpo_toy_multistep/v5_16/global_step_80/actor/state_dict.pt -> /n/home12/cfpark00/ML/llm-meta-rl/data/verl/grpo_toy_multistep/v5_16/global_step_80/actor/state_dict-hf\n"
     ]
    },
    {
     "name": "stderr",
     "output_type": "stream",
     "text": [
      "100%|██████████| 1/1 [00:00<00:00,  2.25it/s]\n",
      "Sliding Window Attention is enabled but not implemented for `sdpa`; unexpected results may be encountered.\n",
      "  0%|          | 0/1 [00:00<?, ?it/s]"
     ]
    },
    {
     "name": "stdout",
     "output_type": "stream",
     "text": [
      "Processed /n/home12/cfpark00/ML/llm-meta-rl/data/verl/grpo_toy_multistep/v5_16/global_step_140/actor/state_dict.pt -> /n/home12/cfpark00/ML/llm-meta-rl/data/verl/grpo_toy_multistep/v5_16/global_step_140/actor/state_dict-hf\n"
     ]
    },
    {
     "name": "stderr",
     "output_type": "stream",
     "text": [
      "100%|██████████| 1/1 [00:00<00:00,  2.43it/s]\n",
      "Sliding Window Attention is enabled but not implemented for `sdpa`; unexpected results may be encountered.\n",
      "  0%|          | 0/1 [00:00<?, ?it/s]"
     ]
    },
    {
     "name": "stdout",
     "output_type": "stream",
     "text": [
      "Processed /n/home12/cfpark00/ML/llm-meta-rl/data/verl/grpo_toy_multistep/v5_16/global_step_290/actor/state_dict.pt -> /n/home12/cfpark00/ML/llm-meta-rl/data/verl/grpo_toy_multistep/v5_16/global_step_290/actor/state_dict-hf\n"
     ]
    },
    {
     "name": "stderr",
     "output_type": "stream",
     "text": [
      "100%|██████████| 1/1 [00:00<00:00,  2.49it/s]\n",
      "Sliding Window Attention is enabled but not implemented for `sdpa`; unexpected results may be encountered.\n",
      "  0%|          | 0/1 [00:00<?, ?it/s]"
     ]
    },
    {
     "name": "stdout",
     "output_type": "stream",
     "text": [
      "Processed /n/home12/cfpark00/ML/llm-meta-rl/data/verl/grpo_toy_multistep/v5_16/global_step_180/actor/state_dict.pt -> /n/home12/cfpark00/ML/llm-meta-rl/data/verl/grpo_toy_multistep/v5_16/global_step_180/actor/state_dict-hf\n"
     ]
    },
    {
     "name": "stderr",
     "output_type": "stream",
     "text": [
      "100%|██████████| 1/1 [00:00<00:00,  2.36it/s]\n",
      "Sliding Window Attention is enabled but not implemented for `sdpa`; unexpected results may be encountered.\n",
      "  0%|          | 0/1 [00:00<?, ?it/s]"
     ]
    },
    {
     "name": "stdout",
     "output_type": "stream",
     "text": [
      "Processed /n/home12/cfpark00/ML/llm-meta-rl/data/verl/grpo_toy_multistep/v5_16/global_step_20/actor/state_dict.pt -> /n/home12/cfpark00/ML/llm-meta-rl/data/verl/grpo_toy_multistep/v5_16/global_step_20/actor/state_dict-hf\n"
     ]
    },
    {
     "name": "stderr",
     "output_type": "stream",
     "text": [
      "100%|██████████| 1/1 [00:00<00:00,  2.33it/s]\n"
     ]
    }
   ],
   "source": [
    "fol_rl=f\"/n/home12/cfpark00/ML/llm-meta-rl/data/verl/grpo_toy_multistep/v5_16\"\n",
    "fol_sft=f\"/n/home12/cfpark00/ML/toy-multistep-reasoning/data/sft/v5/toy-multistep-v5-16/checkpoint-3125\"\n",
    "fol_target=save_dir=\"./data/rl/v5_16/\"\n",
    "#\n",
    "subprocess.call(f\"python3 /n/home12/cfpark00/ML/llm-meta-rl/verl/scripts/merge_state_dicts.py {fol_rl}\", shell=True)\n",
    "steps=[]\n",
    "for f in glob.glob(f\"{fol_rl}/global_step_*\"):\n",
    "    steps.append(int(f.split(\"_\")[-1]))\n",
    "    subprocess.call(f\"python3 /n/home12/cfpark00/ML/llm-meta-rl/verl/scripts/save_hf.py {f}/actor/state_dict.pt --model_name {fol_sft}\", shell=True)\n",
    "os.makedirs(fol_target, exist_ok=True)\n",
    "for step in steps:\n",
    "    f=os.path.join(fol_target,f\"checkpoint-{step}\")\n",
    "    os.makedirs(os.path.dirname(f), exist_ok=True)\n",
    "    shutil.copytree(f\"{fol_rl}/global_step_{step}/actor/state_dict-hf\",f,dirs_exist_ok=True)\n"
   ]
  },
  {
   "cell_type": "code",
   "execution_count": null,
   "metadata": {},
   "outputs": [],
   "source": []
  },
  {
   "cell_type": "code",
   "execution_count": null,
   "metadata": {},
   "outputs": [],
   "source": []
  },
  {
   "cell_type": "code",
   "execution_count": null,
   "metadata": {},
   "outputs": [],
   "source": []
  },
  {
   "cell_type": "code",
   "execution_count": null,
   "metadata": {},
   "outputs": [],
   "source": []
  },
  {
   "cell_type": "code",
   "execution_count": null,
   "metadata": {},
   "outputs": [],
   "source": []
  },
  {
   "cell_type": "code",
   "execution_count": 7,
   "metadata": {},
   "outputs": [
    {
     "name": "stderr",
     "output_type": "stream",
     "text": [
      "100%|██████████| 39/39 [00:00<00:00, 969.70it/s]\n",
      "Sliding Window Attention is enabled but not implemented for `sdpa`; unexpected results may be encountered.\n",
      "  0%|          | 0/1 [00:00<?, ?it/s]"
     ]
    },
    {
     "name": "stdout",
     "output_type": "stream",
     "text": [
      "Processed /n/home12/cfpark00/ML/llm-meta-rl/data/verl/grpo_toy_multistep/v3_1_nm0/global_step_160/actor/state_dict.pt -> /n/home12/cfpark00/ML/llm-meta-rl/data/verl/grpo_toy_multistep/v3_1_nm0/global_step_160/actor/state_dict-hf\n"
     ]
    },
    {
     "name": "stderr",
     "output_type": "stream",
     "text": [
      "100%|██████████| 1/1 [00:04<00:00,  4.70s/it]\n",
      "Sliding Window Attention is enabled but not implemented for `sdpa`; unexpected results may be encountered.\n",
      "  0%|          | 0/1 [00:00<?, ?it/s]"
     ]
    },
    {
     "name": "stdout",
     "output_type": "stream",
     "text": [
      "Processed /n/home12/cfpark00/ML/llm-meta-rl/data/verl/grpo_toy_multistep/v3_1_nm0/global_step_280/actor/state_dict.pt -> /n/home12/cfpark00/ML/llm-meta-rl/data/verl/grpo_toy_multistep/v3_1_nm0/global_step_280/actor/state_dict-hf\n"
     ]
    },
    {
     "name": "stderr",
     "output_type": "stream",
     "text": [
      "100%|██████████| 1/1 [00:00<00:00,  1.31it/s]\n",
      "Sliding Window Attention is enabled but not implemented for `sdpa`; unexpected results may be encountered.\n",
      "  0%|          | 0/1 [00:00<?, ?it/s]"
     ]
    },
    {
     "name": "stdout",
     "output_type": "stream",
     "text": [
      "Processed /n/home12/cfpark00/ML/llm-meta-rl/data/verl/grpo_toy_multistep/v3_1_nm0/global_step_1040/actor/state_dict.pt -> /n/home12/cfpark00/ML/llm-meta-rl/data/verl/grpo_toy_multistep/v3_1_nm0/global_step_1040/actor/state_dict-hf\n"
     ]
    },
    {
     "name": "stderr",
     "output_type": "stream",
     "text": [
      "100%|██████████| 1/1 [00:00<00:00,  1.33it/s]\n",
      "Sliding Window Attention is enabled but not implemented for `sdpa`; unexpected results may be encountered.\n",
      "  0%|          | 0/1 [00:00<?, ?it/s]"
     ]
    },
    {
     "name": "stdout",
     "output_type": "stream",
     "text": [
      "Processed /n/home12/cfpark00/ML/llm-meta-rl/data/verl/grpo_toy_multistep/v3_1_nm0/global_step_320/actor/state_dict.pt -> /n/home12/cfpark00/ML/llm-meta-rl/data/verl/grpo_toy_multistep/v3_1_nm0/global_step_320/actor/state_dict-hf\n"
     ]
    },
    {
     "name": "stderr",
     "output_type": "stream",
     "text": [
      "100%|██████████| 1/1 [00:00<00:00,  1.43it/s]\n",
      "Sliding Window Attention is enabled but not implemented for `sdpa`; unexpected results may be encountered.\n",
      "  0%|          | 0/1 [00:00<?, ?it/s]"
     ]
    },
    {
     "name": "stdout",
     "output_type": "stream",
     "text": [
      "Processed /n/home12/cfpark00/ML/llm-meta-rl/data/verl/grpo_toy_multistep/v3_1_nm0/global_step_440/actor/state_dict.pt -> /n/home12/cfpark00/ML/llm-meta-rl/data/verl/grpo_toy_multistep/v3_1_nm0/global_step_440/actor/state_dict-hf\n"
     ]
    },
    {
     "name": "stderr",
     "output_type": "stream",
     "text": [
      "100%|██████████| 1/1 [00:00<00:00,  1.52it/s]\n",
      "Sliding Window Attention is enabled but not implemented for `sdpa`; unexpected results may be encountered.\n",
      "  0%|          | 0/1 [00:00<?, ?it/s]"
     ]
    },
    {
     "name": "stdout",
     "output_type": "stream",
     "text": [
      "Processed /n/home12/cfpark00/ML/llm-meta-rl/data/verl/grpo_toy_multistep/v3_1_nm0/global_step_720/actor/state_dict.pt -> /n/home12/cfpark00/ML/llm-meta-rl/data/verl/grpo_toy_multistep/v3_1_nm0/global_step_720/actor/state_dict-hf\n"
     ]
    },
    {
     "name": "stderr",
     "output_type": "stream",
     "text": [
      "100%|██████████| 1/1 [00:00<00:00,  1.53it/s]\n",
      "Sliding Window Attention is enabled but not implemented for `sdpa`; unexpected results may be encountered.\n",
      "  0%|          | 0/1 [00:00<?, ?it/s]"
     ]
    },
    {
     "name": "stdout",
     "output_type": "stream",
     "text": [
      "Processed /n/home12/cfpark00/ML/llm-meta-rl/data/verl/grpo_toy_multistep/v3_1_nm0/global_step_360/actor/state_dict.pt -> /n/home12/cfpark00/ML/llm-meta-rl/data/verl/grpo_toy_multistep/v3_1_nm0/global_step_360/actor/state_dict-hf\n"
     ]
    },
    {
     "name": "stderr",
     "output_type": "stream",
     "text": [
      "100%|██████████| 1/1 [00:00<00:00,  1.24it/s]\n",
      "Sliding Window Attention is enabled but not implemented for `sdpa`; unexpected results may be encountered.\n",
      "  0%|          | 0/1 [00:00<?, ?it/s]"
     ]
    },
    {
     "name": "stdout",
     "output_type": "stream",
     "text": [
      "Processed /n/home12/cfpark00/ML/llm-meta-rl/data/verl/grpo_toy_multistep/v3_1_nm0/global_step_1560/actor/state_dict.pt -> /n/home12/cfpark00/ML/llm-meta-rl/data/verl/grpo_toy_multistep/v3_1_nm0/global_step_1560/actor/state_dict-hf\n"
     ]
    },
    {
     "name": "stderr",
     "output_type": "stream",
     "text": [
      "100%|██████████| 1/1 [00:00<00:00,  1.45it/s]\n",
      "Sliding Window Attention is enabled but not implemented for `sdpa`; unexpected results may be encountered.\n",
      "  0%|          | 0/1 [00:00<?, ?it/s]"
     ]
    },
    {
     "name": "stdout",
     "output_type": "stream",
     "text": [
      "Processed /n/home12/cfpark00/ML/llm-meta-rl/data/verl/grpo_toy_multistep/v3_1_nm0/global_step_1520/actor/state_dict.pt -> /n/home12/cfpark00/ML/llm-meta-rl/data/verl/grpo_toy_multistep/v3_1_nm0/global_step_1520/actor/state_dict-hf\n"
     ]
    },
    {
     "name": "stderr",
     "output_type": "stream",
     "text": [
      "100%|██████████| 1/1 [00:00<00:00,  1.31it/s]\n",
      "Sliding Window Attention is enabled but not implemented for `sdpa`; unexpected results may be encountered.\n",
      "  0%|          | 0/1 [00:00<?, ?it/s]"
     ]
    },
    {
     "name": "stdout",
     "output_type": "stream",
     "text": [
      "Processed /n/home12/cfpark00/ML/llm-meta-rl/data/verl/grpo_toy_multistep/v3_1_nm0/global_step_520/actor/state_dict.pt -> /n/home12/cfpark00/ML/llm-meta-rl/data/verl/grpo_toy_multistep/v3_1_nm0/global_step_520/actor/state_dict-hf\n"
     ]
    },
    {
     "name": "stderr",
     "output_type": "stream",
     "text": [
      "100%|██████████| 1/1 [00:00<00:00,  1.55it/s]\n",
      "Sliding Window Attention is enabled but not implemented for `sdpa`; unexpected results may be encountered.\n",
      "  0%|          | 0/1 [00:00<?, ?it/s]"
     ]
    },
    {
     "name": "stdout",
     "output_type": "stream",
     "text": [
      "Processed /n/home12/cfpark00/ML/llm-meta-rl/data/verl/grpo_toy_multistep/v3_1_nm0/global_step_600/actor/state_dict.pt -> /n/home12/cfpark00/ML/llm-meta-rl/data/verl/grpo_toy_multistep/v3_1_nm0/global_step_600/actor/state_dict-hf\n"
     ]
    },
    {
     "name": "stderr",
     "output_type": "stream",
     "text": [
      "100%|██████████| 1/1 [00:00<00:00,  1.41it/s]\n",
      "Sliding Window Attention is enabled but not implemented for `sdpa`; unexpected results may be encountered.\n",
      "  0%|          | 0/1 [00:00<?, ?it/s]"
     ]
    },
    {
     "name": "stdout",
     "output_type": "stream",
     "text": [
      "Processed /n/home12/cfpark00/ML/llm-meta-rl/data/verl/grpo_toy_multistep/v3_1_nm0/global_step_400/actor/state_dict.pt -> /n/home12/cfpark00/ML/llm-meta-rl/data/verl/grpo_toy_multistep/v3_1_nm0/global_step_400/actor/state_dict-hf\n"
     ]
    },
    {
     "name": "stderr",
     "output_type": "stream",
     "text": [
      "100%|██████████| 1/1 [00:00<00:00,  1.52it/s]\n",
      "Sliding Window Attention is enabled but not implemented for `sdpa`; unexpected results may be encountered.\n",
      "  0%|          | 0/1 [00:00<?, ?it/s]"
     ]
    },
    {
     "name": "stdout",
     "output_type": "stream",
     "text": [
      "Processed /n/home12/cfpark00/ML/llm-meta-rl/data/verl/grpo_toy_multistep/v3_1_nm0/global_step_1400/actor/state_dict.pt -> /n/home12/cfpark00/ML/llm-meta-rl/data/verl/grpo_toy_multistep/v3_1_nm0/global_step_1400/actor/state_dict-hf\n"
     ]
    },
    {
     "name": "stderr",
     "output_type": "stream",
     "text": [
      "100%|██████████| 1/1 [00:00<00:00,  1.25it/s]\n",
      "Sliding Window Attention is enabled but not implemented for `sdpa`; unexpected results may be encountered.\n",
      "  0%|          | 0/1 [00:00<?, ?it/s]"
     ]
    },
    {
     "name": "stdout",
     "output_type": "stream",
     "text": [
      "Processed /n/home12/cfpark00/ML/llm-meta-rl/data/verl/grpo_toy_multistep/v3_1_nm0/global_step_240/actor/state_dict.pt -> /n/home12/cfpark00/ML/llm-meta-rl/data/verl/grpo_toy_multistep/v3_1_nm0/global_step_240/actor/state_dict-hf\n"
     ]
    },
    {
     "name": "stderr",
     "output_type": "stream",
     "text": [
      "100%|██████████| 1/1 [00:00<00:00,  1.45it/s]\n",
      "Sliding Window Attention is enabled but not implemented for `sdpa`; unexpected results may be encountered.\n",
      "  0%|          | 0/1 [00:00<?, ?it/s]"
     ]
    },
    {
     "name": "stdout",
     "output_type": "stream",
     "text": [
      "Processed /n/home12/cfpark00/ML/llm-meta-rl/data/verl/grpo_toy_multistep/v3_1_nm0/global_step_1080/actor/state_dict.pt -> /n/home12/cfpark00/ML/llm-meta-rl/data/verl/grpo_toy_multistep/v3_1_nm0/global_step_1080/actor/state_dict-hf\n"
     ]
    },
    {
     "name": "stderr",
     "output_type": "stream",
     "text": [
      "100%|██████████| 1/1 [00:00<00:00,  1.54it/s]\n",
      "Sliding Window Attention is enabled but not implemented for `sdpa`; unexpected results may be encountered.\n",
      "  0%|          | 0/1 [00:00<?, ?it/s]"
     ]
    },
    {
     "name": "stdout",
     "output_type": "stream",
     "text": [
      "Processed /n/home12/cfpark00/ML/llm-meta-rl/data/verl/grpo_toy_multistep/v3_1_nm0/global_step_1120/actor/state_dict.pt -> /n/home12/cfpark00/ML/llm-meta-rl/data/verl/grpo_toy_multistep/v3_1_nm0/global_step_1120/actor/state_dict-hf\n"
     ]
    },
    {
     "name": "stderr",
     "output_type": "stream",
     "text": [
      "100%|██████████| 1/1 [00:00<00:00,  1.45it/s]\n",
      "Sliding Window Attention is enabled but not implemented for `sdpa`; unexpected results may be encountered.\n",
      "  0%|          | 0/1 [00:00<?, ?it/s]"
     ]
    },
    {
     "name": "stdout",
     "output_type": "stream",
     "text": [
      "Processed /n/home12/cfpark00/ML/llm-meta-rl/data/verl/grpo_toy_multistep/v3_1_nm0/global_step_880/actor/state_dict.pt -> /n/home12/cfpark00/ML/llm-meta-rl/data/verl/grpo_toy_multistep/v3_1_nm0/global_step_880/actor/state_dict-hf\n"
     ]
    },
    {
     "name": "stderr",
     "output_type": "stream",
     "text": [
      "100%|██████████| 1/1 [00:00<00:00,  1.20it/s]\n",
      "Sliding Window Attention is enabled but not implemented for `sdpa`; unexpected results may be encountered.\n",
      "  0%|          | 0/1 [00:00<?, ?it/s]"
     ]
    },
    {
     "name": "stdout",
     "output_type": "stream",
     "text": [
      "Processed /n/home12/cfpark00/ML/llm-meta-rl/data/verl/grpo_toy_multistep/v3_1_nm0/global_step_40/actor/state_dict.pt -> /n/home12/cfpark00/ML/llm-meta-rl/data/verl/grpo_toy_multistep/v3_1_nm0/global_step_40/actor/state_dict-hf\n"
     ]
    },
    {
     "name": "stderr",
     "output_type": "stream",
     "text": [
      "100%|██████████| 1/1 [00:00<00:00,  1.58it/s]\n",
      "Sliding Window Attention is enabled but not implemented for `sdpa`; unexpected results may be encountered.\n",
      "  0%|          | 0/1 [00:00<?, ?it/s]"
     ]
    },
    {
     "name": "stdout",
     "output_type": "stream",
     "text": [
      "Processed /n/home12/cfpark00/ML/llm-meta-rl/data/verl/grpo_toy_multistep/v3_1_nm0/global_step_120/actor/state_dict.pt -> /n/home12/cfpark00/ML/llm-meta-rl/data/verl/grpo_toy_multistep/v3_1_nm0/global_step_120/actor/state_dict-hf\n"
     ]
    },
    {
     "name": "stderr",
     "output_type": "stream",
     "text": [
      "100%|██████████| 1/1 [00:00<00:00,  1.46it/s]\n",
      "Sliding Window Attention is enabled but not implemented for `sdpa`; unexpected results may be encountered.\n",
      "  0%|          | 0/1 [00:00<?, ?it/s]"
     ]
    },
    {
     "name": "stdout",
     "output_type": "stream",
     "text": [
      "Processed /n/home12/cfpark00/ML/llm-meta-rl/data/verl/grpo_toy_multistep/v3_1_nm0/global_step_480/actor/state_dict.pt -> /n/home12/cfpark00/ML/llm-meta-rl/data/verl/grpo_toy_multistep/v3_1_nm0/global_step_480/actor/state_dict-hf\n"
     ]
    },
    {
     "name": "stderr",
     "output_type": "stream",
     "text": [
      "100%|██████████| 1/1 [00:00<00:00,  1.36it/s]\n",
      "Sliding Window Attention is enabled but not implemented for `sdpa`; unexpected results may be encountered.\n",
      "  0%|          | 0/1 [00:00<?, ?it/s]"
     ]
    },
    {
     "name": "stdout",
     "output_type": "stream",
     "text": [
      "Processed /n/home12/cfpark00/ML/llm-meta-rl/data/verl/grpo_toy_multistep/v3_1_nm0/global_step_1200/actor/state_dict.pt -> /n/home12/cfpark00/ML/llm-meta-rl/data/verl/grpo_toy_multistep/v3_1_nm0/global_step_1200/actor/state_dict-hf\n"
     ]
    },
    {
     "name": "stderr",
     "output_type": "stream",
     "text": [
      "100%|██████████| 1/1 [00:00<00:00,  1.49it/s]\n",
      "Sliding Window Attention is enabled but not implemented for `sdpa`; unexpected results may be encountered.\n",
      "  0%|          | 0/1 [00:00<?, ?it/s]"
     ]
    },
    {
     "name": "stdout",
     "output_type": "stream",
     "text": [
      "Processed /n/home12/cfpark00/ML/llm-meta-rl/data/verl/grpo_toy_multistep/v3_1_nm0/global_step_920/actor/state_dict.pt -> /n/home12/cfpark00/ML/llm-meta-rl/data/verl/grpo_toy_multistep/v3_1_nm0/global_step_920/actor/state_dict-hf\n"
     ]
    },
    {
     "name": "stderr",
     "output_type": "stream",
     "text": [
      "100%|██████████| 1/1 [00:00<00:00,  1.59it/s]\n",
      "Sliding Window Attention is enabled but not implemented for `sdpa`; unexpected results may be encountered.\n",
      "  0%|          | 0/1 [00:00<?, ?it/s]"
     ]
    },
    {
     "name": "stdout",
     "output_type": "stream",
     "text": [
      "Processed /n/home12/cfpark00/ML/llm-meta-rl/data/verl/grpo_toy_multistep/v3_1_nm0/global_step_960/actor/state_dict.pt -> /n/home12/cfpark00/ML/llm-meta-rl/data/verl/grpo_toy_multistep/v3_1_nm0/global_step_960/actor/state_dict-hf\n"
     ]
    },
    {
     "name": "stderr",
     "output_type": "stream",
     "text": [
      "100%|██████████| 1/1 [00:00<00:00,  1.30it/s]\n",
      "Sliding Window Attention is enabled but not implemented for `sdpa`; unexpected results may be encountered.\n",
      "  0%|          | 0/1 [00:00<?, ?it/s]"
     ]
    },
    {
     "name": "stdout",
     "output_type": "stream",
     "text": [
      "Processed /n/home12/cfpark00/ML/llm-meta-rl/data/verl/grpo_toy_multistep/v3_1_nm0/global_step_200/actor/state_dict.pt -> /n/home12/cfpark00/ML/llm-meta-rl/data/verl/grpo_toy_multistep/v3_1_nm0/global_step_200/actor/state_dict-hf\n"
     ]
    },
    {
     "name": "stderr",
     "output_type": "stream",
     "text": [
      "100%|██████████| 1/1 [00:00<00:00,  1.35it/s]\n",
      "Sliding Window Attention is enabled but not implemented for `sdpa`; unexpected results may be encountered.\n",
      "  0%|          | 0/1 [00:00<?, ?it/s]"
     ]
    },
    {
     "name": "stdout",
     "output_type": "stream",
     "text": [
      "Processed /n/home12/cfpark00/ML/llm-meta-rl/data/verl/grpo_toy_multistep/v3_1_nm0/global_step_1280/actor/state_dict.pt -> /n/home12/cfpark00/ML/llm-meta-rl/data/verl/grpo_toy_multistep/v3_1_nm0/global_step_1280/actor/state_dict-hf\n"
     ]
    },
    {
     "name": "stderr",
     "output_type": "stream",
     "text": [
      "100%|██████████| 1/1 [00:00<00:00,  1.33it/s]\n",
      "Sliding Window Attention is enabled but not implemented for `sdpa`; unexpected results may be encountered.\n",
      "  0%|          | 0/1 [00:00<?, ?it/s]"
     ]
    },
    {
     "name": "stdout",
     "output_type": "stream",
     "text": [
      "Processed /n/home12/cfpark00/ML/llm-meta-rl/data/verl/grpo_toy_multistep/v3_1_nm0/global_step_680/actor/state_dict.pt -> /n/home12/cfpark00/ML/llm-meta-rl/data/verl/grpo_toy_multistep/v3_1_nm0/global_step_680/actor/state_dict-hf\n"
     ]
    },
    {
     "name": "stderr",
     "output_type": "stream",
     "text": [
      "100%|██████████| 1/1 [00:00<00:00,  1.44it/s]\n",
      "Sliding Window Attention is enabled but not implemented for `sdpa`; unexpected results may be encountered.\n",
      "  0%|          | 0/1 [00:00<?, ?it/s]"
     ]
    },
    {
     "name": "stdout",
     "output_type": "stream",
     "text": [
      "Processed /n/home12/cfpark00/ML/llm-meta-rl/data/verl/grpo_toy_multistep/v3_1_nm0/global_step_1320/actor/state_dict.pt -> /n/home12/cfpark00/ML/llm-meta-rl/data/verl/grpo_toy_multistep/v3_1_nm0/global_step_1320/actor/state_dict-hf\n"
     ]
    },
    {
     "name": "stderr",
     "output_type": "stream",
     "text": [
      "100%|██████████| 1/1 [00:01<00:00,  1.07s/it]\n",
      "Sliding Window Attention is enabled but not implemented for `sdpa`; unexpected results may be encountered.\n",
      "  0%|          | 0/1 [00:00<?, ?it/s]"
     ]
    },
    {
     "name": "stdout",
     "output_type": "stream",
     "text": [
      "Processed /n/home12/cfpark00/ML/llm-meta-rl/data/verl/grpo_toy_multistep/v3_1_nm0/global_step_1240/actor/state_dict.pt -> /n/home12/cfpark00/ML/llm-meta-rl/data/verl/grpo_toy_multistep/v3_1_nm0/global_step_1240/actor/state_dict-hf\n"
     ]
    },
    {
     "name": "stderr",
     "output_type": "stream",
     "text": [
      "100%|██████████| 1/1 [00:00<00:00,  1.13it/s]\n",
      "Sliding Window Attention is enabled but not implemented for `sdpa`; unexpected results may be encountered.\n",
      "  0%|          | 0/1 [00:00<?, ?it/s]"
     ]
    },
    {
     "name": "stdout",
     "output_type": "stream",
     "text": [
      "Processed /n/home12/cfpark00/ML/llm-meta-rl/data/verl/grpo_toy_multistep/v3_1_nm0/global_step_1480/actor/state_dict.pt -> /n/home12/cfpark00/ML/llm-meta-rl/data/verl/grpo_toy_multistep/v3_1_nm0/global_step_1480/actor/state_dict-hf\n"
     ]
    },
    {
     "name": "stderr",
     "output_type": "stream",
     "text": [
      "100%|██████████| 1/1 [00:00<00:00,  1.33it/s]\n",
      "Sliding Window Attention is enabled but not implemented for `sdpa`; unexpected results may be encountered.\n",
      "  0%|          | 0/1 [00:00<?, ?it/s]"
     ]
    },
    {
     "name": "stdout",
     "output_type": "stream",
     "text": [
      "Processed /n/home12/cfpark00/ML/llm-meta-rl/data/verl/grpo_toy_multistep/v3_1_nm0/global_step_1160/actor/state_dict.pt -> /n/home12/cfpark00/ML/llm-meta-rl/data/verl/grpo_toy_multistep/v3_1_nm0/global_step_1160/actor/state_dict-hf\n"
     ]
    },
    {
     "name": "stderr",
     "output_type": "stream",
     "text": [
      "100%|██████████| 1/1 [00:00<00:00,  1.45it/s]\n",
      "Sliding Window Attention is enabled but not implemented for `sdpa`; unexpected results may be encountered.\n",
      "  0%|          | 0/1 [00:00<?, ?it/s]"
     ]
    },
    {
     "name": "stdout",
     "output_type": "stream",
     "text": [
      "Processed /n/home12/cfpark00/ML/llm-meta-rl/data/verl/grpo_toy_multistep/v3_1_nm0/global_step_640/actor/state_dict.pt -> /n/home12/cfpark00/ML/llm-meta-rl/data/verl/grpo_toy_multistep/v3_1_nm0/global_step_640/actor/state_dict-hf\n"
     ]
    },
    {
     "name": "stderr",
     "output_type": "stream",
     "text": [
      "100%|██████████| 1/1 [00:00<00:00,  1.36it/s]\n",
      "Sliding Window Attention is enabled but not implemented for `sdpa`; unexpected results may be encountered.\n",
      "  0%|          | 0/1 [00:00<?, ?it/s]"
     ]
    },
    {
     "name": "stdout",
     "output_type": "stream",
     "text": [
      "Processed /n/home12/cfpark00/ML/llm-meta-rl/data/verl/grpo_toy_multistep/v3_1_nm0/global_step_1000/actor/state_dict.pt -> /n/home12/cfpark00/ML/llm-meta-rl/data/verl/grpo_toy_multistep/v3_1_nm0/global_step_1000/actor/state_dict-hf\n"
     ]
    },
    {
     "name": "stderr",
     "output_type": "stream",
     "text": [
      "100%|██████████| 1/1 [00:00<00:00,  1.33it/s]\n",
      "Sliding Window Attention is enabled but not implemented for `sdpa`; unexpected results may be encountered.\n",
      "  0%|          | 0/1 [00:00<?, ?it/s]"
     ]
    },
    {
     "name": "stdout",
     "output_type": "stream",
     "text": [
      "Processed /n/home12/cfpark00/ML/llm-meta-rl/data/verl/grpo_toy_multistep/v3_1_nm0/global_step_1440/actor/state_dict.pt -> /n/home12/cfpark00/ML/llm-meta-rl/data/verl/grpo_toy_multistep/v3_1_nm0/global_step_1440/actor/state_dict-hf\n"
     ]
    },
    {
     "name": "stderr",
     "output_type": "stream",
     "text": [
      "100%|██████████| 1/1 [00:00<00:00,  1.29it/s]\n",
      "Sliding Window Attention is enabled but not implemented for `sdpa`; unexpected results may be encountered.\n",
      "  0%|          | 0/1 [00:00<?, ?it/s]"
     ]
    },
    {
     "name": "stdout",
     "output_type": "stream",
     "text": [
      "Processed /n/home12/cfpark00/ML/llm-meta-rl/data/verl/grpo_toy_multistep/v3_1_nm0/global_step_760/actor/state_dict.pt -> /n/home12/cfpark00/ML/llm-meta-rl/data/verl/grpo_toy_multistep/v3_1_nm0/global_step_760/actor/state_dict-hf\n"
     ]
    },
    {
     "name": "stderr",
     "output_type": "stream",
     "text": [
      "100%|██████████| 1/1 [00:00<00:00,  1.17it/s]\n",
      "Sliding Window Attention is enabled but not implemented for `sdpa`; unexpected results may be encountered.\n",
      "  0%|          | 0/1 [00:00<?, ?it/s]"
     ]
    },
    {
     "name": "stdout",
     "output_type": "stream",
     "text": [
      "Processed /n/home12/cfpark00/ML/llm-meta-rl/data/verl/grpo_toy_multistep/v3_1_nm0/global_step_800/actor/state_dict.pt -> /n/home12/cfpark00/ML/llm-meta-rl/data/verl/grpo_toy_multistep/v3_1_nm0/global_step_800/actor/state_dict-hf\n"
     ]
    },
    {
     "name": "stderr",
     "output_type": "stream",
     "text": [
      "100%|██████████| 1/1 [00:00<00:00,  1.26it/s]\n",
      "Sliding Window Attention is enabled but not implemented for `sdpa`; unexpected results may be encountered.\n",
      "  0%|          | 0/1 [00:00<?, ?it/s]"
     ]
    },
    {
     "name": "stdout",
     "output_type": "stream",
     "text": [
      "Processed /n/home12/cfpark00/ML/llm-meta-rl/data/verl/grpo_toy_multistep/v3_1_nm0/global_step_80/actor/state_dict.pt -> /n/home12/cfpark00/ML/llm-meta-rl/data/verl/grpo_toy_multistep/v3_1_nm0/global_step_80/actor/state_dict-hf\n"
     ]
    },
    {
     "name": "stderr",
     "output_type": "stream",
     "text": [
      "100%|██████████| 1/1 [00:01<00:00,  1.00s/it]\n",
      "Sliding Window Attention is enabled but not implemented for `sdpa`; unexpected results may be encountered.\n",
      "  0%|          | 0/1 [00:00<?, ?it/s]"
     ]
    },
    {
     "name": "stdout",
     "output_type": "stream",
     "text": [
      "Processed /n/home12/cfpark00/ML/llm-meta-rl/data/verl/grpo_toy_multistep/v3_1_nm0/global_step_560/actor/state_dict.pt -> /n/home12/cfpark00/ML/llm-meta-rl/data/verl/grpo_toy_multistep/v3_1_nm0/global_step_560/actor/state_dict-hf\n"
     ]
    },
    {
     "name": "stderr",
     "output_type": "stream",
     "text": [
      "100%|██████████| 1/1 [00:00<00:00,  1.08it/s]\n",
      "Sliding Window Attention is enabled but not implemented for `sdpa`; unexpected results may be encountered.\n",
      "  0%|          | 0/1 [00:00<?, ?it/s]"
     ]
    },
    {
     "name": "stdout",
     "output_type": "stream",
     "text": [
      "Processed /n/home12/cfpark00/ML/llm-meta-rl/data/verl/grpo_toy_multistep/v3_1_nm0/global_step_1360/actor/state_dict.pt -> /n/home12/cfpark00/ML/llm-meta-rl/data/verl/grpo_toy_multistep/v3_1_nm0/global_step_1360/actor/state_dict-hf\n"
     ]
    },
    {
     "name": "stderr",
     "output_type": "stream",
     "text": [
      "100%|██████████| 1/1 [00:01<00:00,  1.03s/it]\n",
      "Sliding Window Attention is enabled but not implemented for `sdpa`; unexpected results may be encountered.\n",
      "  0%|          | 0/1 [00:00<?, ?it/s]"
     ]
    },
    {
     "name": "stdout",
     "output_type": "stream",
     "text": [
      "Processed /n/home12/cfpark00/ML/llm-meta-rl/data/verl/grpo_toy_multistep/v3_1_nm0/global_step_840/actor/state_dict.pt -> /n/home12/cfpark00/ML/llm-meta-rl/data/verl/grpo_toy_multistep/v3_1_nm0/global_step_840/actor/state_dict-hf\n"
     ]
    },
    {
     "name": "stderr",
     "output_type": "stream",
     "text": [
      "100%|██████████| 1/1 [00:01<00:00,  1.64s/it]\n",
      "  0%|          | 0/39 [00:00<?, ?it/s]"
     ]
    },
    {
     "name": "stdout",
     "output_type": "stream",
     "text": [
      "saved /n/home12/cfpark00/ML/llm-meta-rl/data/verl/grpo_toy_multistep/v3_1_nm1/global_step_40/actor/state_dict.pt\n"
     ]
    },
    {
     "name": "stderr",
     "output_type": "stream",
     "text": [
      "  3%|▎         | 1/39 [00:01<00:39,  1.04s/it]"
     ]
    },
    {
     "name": "stdout",
     "output_type": "stream",
     "text": [
      "saved /n/home12/cfpark00/ML/llm-meta-rl/data/verl/grpo_toy_multistep/v3_1_nm1/global_step_80/actor/state_dict.pt\n"
     ]
    },
    {
     "name": "stderr",
     "output_type": "stream",
     "text": [
      "  5%|▌         | 2/39 [00:01<00:22,  1.64it/s]"
     ]
    },
    {
     "name": "stdout",
     "output_type": "stream",
     "text": [
      "saved /n/home12/cfpark00/ML/llm-meta-rl/data/verl/grpo_toy_multistep/v3_1_nm1/global_step_120/actor/state_dict.pt\n",
      "saved /n/home12/cfpark00/ML/llm-meta-rl/data/verl/grpo_toy_multistep/v3_1_nm1/global_step_160/actor/state_dict.pt\n"
     ]
    },
    {
     "name": "stderr",
     "output_type": "stream",
     "text": [
      " 10%|█         | 4/39 [00:01<00:13,  2.55it/s]"
     ]
    },
    {
     "name": "stdout",
     "output_type": "stream",
     "text": [
      "saved /n/home12/cfpark00/ML/llm-meta-rl/data/verl/grpo_toy_multistep/v3_1_nm1/global_step_200/actor/state_dict.pt\n"
     ]
    },
    {
     "name": "stderr",
     "output_type": "stream",
     "text": [
      " 13%|█▎        | 5/39 [00:02<00:10,  3.10it/s]"
     ]
    },
    {
     "name": "stdout",
     "output_type": "stream",
     "text": [
      "saved /n/home12/cfpark00/ML/llm-meta-rl/data/verl/grpo_toy_multistep/v3_1_nm1/global_step_240/actor/state_dict.pt\n",
      "saved /n/home12/cfpark00/ML/llm-meta-rl/data/verl/grpo_toy_multistep/v3_1_nm1/global_step_280/actor/state_dict.pt\n"
     ]
    },
    {
     "name": "stderr",
     "output_type": "stream",
     "text": [
      " 18%|█▊        | 7/39 [00:02<00:08,  3.68it/s]"
     ]
    },
    {
     "name": "stdout",
     "output_type": "stream",
     "text": [
      "saved /n/home12/cfpark00/ML/llm-meta-rl/data/verl/grpo_toy_multistep/v3_1_nm1/global_step_320/actor/state_dict.pt\n",
      "saved /n/home12/cfpark00/ML/llm-meta-rl/data/verl/grpo_toy_multistep/v3_1_nm1/global_step_360/actor/state_dict.pt\n"
     ]
    },
    {
     "name": "stderr",
     "output_type": "stream",
     "text": [
      " 23%|██▎       | 9/39 [00:02<00:06,  4.90it/s]"
     ]
    },
    {
     "name": "stdout",
     "output_type": "stream",
     "text": [
      "saved /n/home12/cfpark00/ML/llm-meta-rl/data/verl/grpo_toy_multistep/v3_1_nm1/global_step_400/actor/state_dict.pt\n",
      "saved /n/home12/cfpark00/ML/llm-meta-rl/data/verl/grpo_toy_multistep/v3_1_nm1/global_step_440/actor/state_dict.pt\n"
     ]
    },
    {
     "name": "stderr",
     "output_type": "stream",
     "text": [
      " 28%|██▊       | 11/39 [00:03<00:05,  4.82it/s]"
     ]
    },
    {
     "name": "stdout",
     "output_type": "stream",
     "text": [
      "saved /n/home12/cfpark00/ML/llm-meta-rl/data/verl/grpo_toy_multistep/v3_1_nm1/global_step_480/actor/state_dict.pt\n"
     ]
    },
    {
     "name": "stderr",
     "output_type": "stream",
     "text": [
      " 31%|███       | 12/39 [00:03<00:05,  5.08it/s]"
     ]
    },
    {
     "name": "stdout",
     "output_type": "stream",
     "text": [
      "saved /n/home12/cfpark00/ML/llm-meta-rl/data/verl/grpo_toy_multistep/v3_1_nm1/global_step_520/actor/state_dict.pt\n"
     ]
    },
    {
     "name": "stderr",
     "output_type": "stream",
     "text": [
      " 33%|███▎      | 13/39 [00:03<00:05,  4.79it/s]"
     ]
    },
    {
     "name": "stdout",
     "output_type": "stream",
     "text": [
      "saved /n/home12/cfpark00/ML/llm-meta-rl/data/verl/grpo_toy_multistep/v3_1_nm1/global_step_560/actor/state_dict.pt\n"
     ]
    },
    {
     "name": "stderr",
     "output_type": "stream",
     "text": [
      " 36%|███▌      | 14/39 [00:04<00:05,  4.27it/s]"
     ]
    },
    {
     "name": "stdout",
     "output_type": "stream",
     "text": [
      "saved /n/home12/cfpark00/ML/llm-meta-rl/data/verl/grpo_toy_multistep/v3_1_nm1/global_step_600/actor/state_dict.pt\n",
      "saved /n/home12/cfpark00/ML/llm-meta-rl/data/verl/grpo_toy_multistep/v3_1_nm1/global_step_640/actor/state_dict.pt\n"
     ]
    },
    {
     "name": "stderr",
     "output_type": "stream",
     "text": [
      " 41%|████      | 16/39 [00:04<00:04,  4.88it/s]"
     ]
    },
    {
     "name": "stdout",
     "output_type": "stream",
     "text": [
      "saved /n/home12/cfpark00/ML/llm-meta-rl/data/verl/grpo_toy_multistep/v3_1_nm1/global_step_680/actor/state_dict.pt\n",
      "saved /n/home12/cfpark00/ML/llm-meta-rl/data/verl/grpo_toy_multistep/v3_1_nm1/global_step_720/actor/state_dict.pt\n"
     ]
    },
    {
     "name": "stderr",
     "output_type": "stream",
     "text": [
      " 46%|████▌     | 18/39 [00:04<00:04,  4.52it/s]"
     ]
    },
    {
     "name": "stdout",
     "output_type": "stream",
     "text": [
      "saved /n/home12/cfpark00/ML/llm-meta-rl/data/verl/grpo_toy_multistep/v3_1_nm1/global_step_760/actor/state_dict.pt\n",
      "saved /n/home12/cfpark00/ML/llm-meta-rl/data/verl/grpo_toy_multistep/v3_1_nm1/global_step_800/actor/state_dict.pt\n"
     ]
    },
    {
     "name": "stderr",
     "output_type": "stream",
     "text": [
      " 51%|█████▏    | 20/39 [00:05<00:03,  4.86it/s]"
     ]
    },
    {
     "name": "stdout",
     "output_type": "stream",
     "text": [
      "saved /n/home12/cfpark00/ML/llm-meta-rl/data/verl/grpo_toy_multistep/v3_1_nm1/global_step_840/actor/state_dict.pt\n",
      "saved /n/home12/cfpark00/ML/llm-meta-rl/data/verl/grpo_toy_multistep/v3_1_nm1/global_step_880/actor/state_dict.pt\n"
     ]
    },
    {
     "name": "stderr",
     "output_type": "stream",
     "text": [
      " 56%|█████▋    | 22/39 [00:05<00:03,  4.59it/s]"
     ]
    },
    {
     "name": "stdout",
     "output_type": "stream",
     "text": [
      "saved /n/home12/cfpark00/ML/llm-meta-rl/data/verl/grpo_toy_multistep/v3_1_nm1/global_step_920/actor/state_dict.pt\n",
      "saved /n/home12/cfpark00/ML/llm-meta-rl/data/verl/grpo_toy_multistep/v3_1_nm1/global_step_960/actor/state_dict.pt\n"
     ]
    },
    {
     "name": "stderr",
     "output_type": "stream",
     "text": [
      " 62%|██████▏   | 24/39 [00:06<00:03,  5.00it/s]"
     ]
    },
    {
     "name": "stdout",
     "output_type": "stream",
     "text": [
      "saved /n/home12/cfpark00/ML/llm-meta-rl/data/verl/grpo_toy_multistep/v3_1_nm1/global_step_1000/actor/state_dict.pt\n",
      "saved /n/home12/cfpark00/ML/llm-meta-rl/data/verl/grpo_toy_multistep/v3_1_nm1/global_step_1040/actor/state_dict.pt\n"
     ]
    },
    {
     "name": "stderr",
     "output_type": "stream",
     "text": [
      " 67%|██████▋   | 26/39 [00:06<00:02,  5.09it/s]"
     ]
    },
    {
     "name": "stdout",
     "output_type": "stream",
     "text": [
      "saved /n/home12/cfpark00/ML/llm-meta-rl/data/verl/grpo_toy_multistep/v3_1_nm1/global_step_1080/actor/state_dict.pt\n"
     ]
    },
    {
     "name": "stderr",
     "output_type": "stream",
     "text": [
      " 69%|██████▉   | 27/39 [00:06<00:02,  5.37it/s]"
     ]
    },
    {
     "name": "stdout",
     "output_type": "stream",
     "text": [
      "saved /n/home12/cfpark00/ML/llm-meta-rl/data/verl/grpo_toy_multistep/v3_1_nm1/global_step_1120/actor/state_dict.pt\n",
      "saved /n/home12/cfpark00/ML/llm-meta-rl/data/verl/grpo_toy_multistep/v3_1_nm1/global_step_1160/actor/state_dict.pt\n"
     ]
    },
    {
     "name": "stderr",
     "output_type": "stream",
     "text": [
      " 74%|███████▍  | 29/39 [00:07<00:01,  5.25it/s]"
     ]
    },
    {
     "name": "stdout",
     "output_type": "stream",
     "text": [
      "saved /n/home12/cfpark00/ML/llm-meta-rl/data/verl/grpo_toy_multistep/v3_1_nm1/global_step_1200/actor/state_dict.pt\n"
     ]
    },
    {
     "name": "stderr",
     "output_type": "stream",
     "text": [
      " 77%|███████▋  | 30/39 [00:07<00:01,  5.27it/s]"
     ]
    },
    {
     "name": "stdout",
     "output_type": "stream",
     "text": [
      "saved /n/home12/cfpark00/ML/llm-meta-rl/data/verl/grpo_toy_multistep/v3_1_nm1/global_step_1240/actor/state_dict.pt\n",
      "saved /n/home12/cfpark00/ML/llm-meta-rl/data/verl/grpo_toy_multistep/v3_1_nm1/global_step_1280/actor/state_dict.pt\n"
     ]
    },
    {
     "name": "stderr",
     "output_type": "stream",
     "text": [
      " 82%|████████▏ | 32/39 [00:07<00:01,  5.05it/s]"
     ]
    },
    {
     "name": "stdout",
     "output_type": "stream",
     "text": [
      "saved /n/home12/cfpark00/ML/llm-meta-rl/data/verl/grpo_toy_multistep/v3_1_nm1/global_step_1320/actor/state_dict.pt\n",
      "saved /n/home12/cfpark00/ML/llm-meta-rl/data/verl/grpo_toy_multistep/v3_1_nm1/global_step_1360/actor/state_dict.pt\n"
     ]
    },
    {
     "name": "stderr",
     "output_type": "stream",
     "text": [
      " 85%|████████▍ | 33/39 [00:07<00:01,  5.44it/s]"
     ]
    },
    {
     "name": "stdout",
     "output_type": "stream",
     "text": [
      "saved /n/home12/cfpark00/ML/llm-meta-rl/data/verl/grpo_toy_multistep/v3_1_nm1/global_step_1400/actor/state_dict.pt\n"
     ]
    },
    {
     "name": "stderr",
     "output_type": "stream",
     "text": [
      " 90%|████████▉ | 35/39 [00:08<00:00,  4.17it/s]"
     ]
    },
    {
     "name": "stdout",
     "output_type": "stream",
     "text": [
      "saved /n/home12/cfpark00/ML/llm-meta-rl/data/verl/grpo_toy_multistep/v3_1_nm1/global_step_1440/actor/state_dict.pt\n",
      "saved /n/home12/cfpark00/ML/llm-meta-rl/data/verl/grpo_toy_multistep/v3_1_nm1/global_step_1480/actor/state_dict.pt\n"
     ]
    },
    {
     "name": "stderr",
     "output_type": "stream",
     "text": [
      " 95%|█████████▍| 37/39 [00:08<00:00,  4.84it/s]"
     ]
    },
    {
     "name": "stdout",
     "output_type": "stream",
     "text": [
      "saved /n/home12/cfpark00/ML/llm-meta-rl/data/verl/grpo_toy_multistep/v3_1_nm1/global_step_1520/actor/state_dict.pt\n",
      "saved /n/home12/cfpark00/ML/llm-meta-rl/data/verl/grpo_toy_multistep/v3_1_nm1/global_step_1560/actor/state_dict.pt\n"
     ]
    },
    {
     "name": "stderr",
     "output_type": "stream",
     "text": [
      "100%|██████████| 39/39 [00:09<00:00,  4.20it/s]\n",
      "Sliding Window Attention is enabled but not implemented for `sdpa`; unexpected results may be encountered.\n",
      "  0%|          | 0/1 [00:00<?, ?it/s]"
     ]
    },
    {
     "name": "stdout",
     "output_type": "stream",
     "text": [
      "Processed /n/home12/cfpark00/ML/llm-meta-rl/data/verl/grpo_toy_multistep/v3_1_nm1/global_step_160/actor/state_dict.pt -> /n/home12/cfpark00/ML/llm-meta-rl/data/verl/grpo_toy_multistep/v3_1_nm1/global_step_160/actor/state_dict-hf\n"
     ]
    },
    {
     "name": "stderr",
     "output_type": "stream",
     "text": [
      "100%|██████████| 1/1 [00:01<00:00,  1.53s/it]\n",
      "Sliding Window Attention is enabled but not implemented for `sdpa`; unexpected results may be encountered.\n",
      "  0%|          | 0/1 [00:00<?, ?it/s]"
     ]
    },
    {
     "name": "stdout",
     "output_type": "stream",
     "text": [
      "Processed /n/home12/cfpark00/ML/llm-meta-rl/data/verl/grpo_toy_multistep/v3_1_nm1/global_step_280/actor/state_dict.pt -> /n/home12/cfpark00/ML/llm-meta-rl/data/verl/grpo_toy_multistep/v3_1_nm1/global_step_280/actor/state_dict-hf\n"
     ]
    },
    {
     "name": "stderr",
     "output_type": "stream",
     "text": [
      "100%|██████████| 1/1 [00:01<00:00,  1.88s/it]\n",
      "Sliding Window Attention is enabled but not implemented for `sdpa`; unexpected results may be encountered.\n",
      "  0%|          | 0/1 [00:00<?, ?it/s]"
     ]
    },
    {
     "name": "stdout",
     "output_type": "stream",
     "text": [
      "Processed /n/home12/cfpark00/ML/llm-meta-rl/data/verl/grpo_toy_multistep/v3_1_nm1/global_step_1040/actor/state_dict.pt -> /n/home12/cfpark00/ML/llm-meta-rl/data/verl/grpo_toy_multistep/v3_1_nm1/global_step_1040/actor/state_dict-hf\n"
     ]
    },
    {
     "name": "stderr",
     "output_type": "stream",
     "text": [
      "100%|██████████| 1/1 [00:01<00:00,  1.61s/it]\n",
      "Sliding Window Attention is enabled but not implemented for `sdpa`; unexpected results may be encountered.\n",
      "  0%|          | 0/1 [00:00<?, ?it/s]"
     ]
    },
    {
     "name": "stdout",
     "output_type": "stream",
     "text": [
      "Processed /n/home12/cfpark00/ML/llm-meta-rl/data/verl/grpo_toy_multistep/v3_1_nm1/global_step_320/actor/state_dict.pt -> /n/home12/cfpark00/ML/llm-meta-rl/data/verl/grpo_toy_multistep/v3_1_nm1/global_step_320/actor/state_dict-hf\n"
     ]
    },
    {
     "name": "stderr",
     "output_type": "stream",
     "text": [
      "100%|██████████| 1/1 [00:01<00:00,  1.56s/it]\n",
      "Sliding Window Attention is enabled but not implemented for `sdpa`; unexpected results may be encountered.\n",
      "  0%|          | 0/1 [00:00<?, ?it/s]"
     ]
    },
    {
     "name": "stdout",
     "output_type": "stream",
     "text": [
      "Processed /n/home12/cfpark00/ML/llm-meta-rl/data/verl/grpo_toy_multistep/v3_1_nm1/global_step_440/actor/state_dict.pt -> /n/home12/cfpark00/ML/llm-meta-rl/data/verl/grpo_toy_multistep/v3_1_nm1/global_step_440/actor/state_dict-hf\n"
     ]
    },
    {
     "name": "stderr",
     "output_type": "stream",
     "text": [
      "100%|██████████| 1/1 [00:01<00:00,  1.49s/it]\n",
      "Sliding Window Attention is enabled but not implemented for `sdpa`; unexpected results may be encountered.\n",
      "  0%|          | 0/1 [00:00<?, ?it/s]"
     ]
    },
    {
     "name": "stdout",
     "output_type": "stream",
     "text": [
      "Processed /n/home12/cfpark00/ML/llm-meta-rl/data/verl/grpo_toy_multistep/v3_1_nm1/global_step_720/actor/state_dict.pt -> /n/home12/cfpark00/ML/llm-meta-rl/data/verl/grpo_toy_multistep/v3_1_nm1/global_step_720/actor/state_dict-hf\n"
     ]
    },
    {
     "name": "stderr",
     "output_type": "stream",
     "text": [
      "100%|██████████| 1/1 [00:01<00:00,  1.82s/it]\n",
      "Sliding Window Attention is enabled but not implemented for `sdpa`; unexpected results may be encountered.\n",
      "  0%|          | 0/1 [00:00<?, ?it/s]"
     ]
    },
    {
     "name": "stdout",
     "output_type": "stream",
     "text": [
      "Processed /n/home12/cfpark00/ML/llm-meta-rl/data/verl/grpo_toy_multistep/v3_1_nm1/global_step_360/actor/state_dict.pt -> /n/home12/cfpark00/ML/llm-meta-rl/data/verl/grpo_toy_multistep/v3_1_nm1/global_step_360/actor/state_dict-hf\n"
     ]
    },
    {
     "name": "stderr",
     "output_type": "stream",
     "text": [
      "100%|██████████| 1/1 [00:01<00:00,  1.64s/it]\n",
      "Sliding Window Attention is enabled but not implemented for `sdpa`; unexpected results may be encountered.\n",
      "  0%|          | 0/1 [00:00<?, ?it/s]"
     ]
    },
    {
     "name": "stdout",
     "output_type": "stream",
     "text": [
      "Processed /n/home12/cfpark00/ML/llm-meta-rl/data/verl/grpo_toy_multistep/v3_1_nm1/global_step_1560/actor/state_dict.pt -> /n/home12/cfpark00/ML/llm-meta-rl/data/verl/grpo_toy_multistep/v3_1_nm1/global_step_1560/actor/state_dict-hf\n"
     ]
    },
    {
     "name": "stderr",
     "output_type": "stream",
     "text": [
      "100%|██████████| 1/1 [00:01<00:00,  1.46s/it]\n",
      "Sliding Window Attention is enabled but not implemented for `sdpa`; unexpected results may be encountered.\n",
      "  0%|          | 0/1 [00:00<?, ?it/s]"
     ]
    },
    {
     "name": "stdout",
     "output_type": "stream",
     "text": [
      "Processed /n/home12/cfpark00/ML/llm-meta-rl/data/verl/grpo_toy_multistep/v3_1_nm1/global_step_1520/actor/state_dict.pt -> /n/home12/cfpark00/ML/llm-meta-rl/data/verl/grpo_toy_multistep/v3_1_nm1/global_step_1520/actor/state_dict-hf\n"
     ]
    },
    {
     "name": "stderr",
     "output_type": "stream",
     "text": [
      "100%|██████████| 1/1 [00:01<00:00,  1.46s/it]\n",
      "Sliding Window Attention is enabled but not implemented for `sdpa`; unexpected results may be encountered.\n",
      "  0%|          | 0/1 [00:00<?, ?it/s]"
     ]
    },
    {
     "name": "stdout",
     "output_type": "stream",
     "text": [
      "Processed /n/home12/cfpark00/ML/llm-meta-rl/data/verl/grpo_toy_multistep/v3_1_nm1/global_step_520/actor/state_dict.pt -> /n/home12/cfpark00/ML/llm-meta-rl/data/verl/grpo_toy_multistep/v3_1_nm1/global_step_520/actor/state_dict-hf\n"
     ]
    },
    {
     "name": "stderr",
     "output_type": "stream",
     "text": [
      "100%|██████████| 1/1 [00:01<00:00,  1.72s/it]\n",
      "Sliding Window Attention is enabled but not implemented for `sdpa`; unexpected results may be encountered.\n",
      "  0%|          | 0/1 [00:00<?, ?it/s]"
     ]
    },
    {
     "name": "stdout",
     "output_type": "stream",
     "text": [
      "Processed /n/home12/cfpark00/ML/llm-meta-rl/data/verl/grpo_toy_multistep/v3_1_nm1/global_step_600/actor/state_dict.pt -> /n/home12/cfpark00/ML/llm-meta-rl/data/verl/grpo_toy_multistep/v3_1_nm1/global_step_600/actor/state_dict-hf\n"
     ]
    },
    {
     "name": "stderr",
     "output_type": "stream",
     "text": [
      "100%|██████████| 1/1 [00:01<00:00,  1.61s/it]\n",
      "Sliding Window Attention is enabled but not implemented for `sdpa`; unexpected results may be encountered.\n",
      "  0%|          | 0/1 [00:00<?, ?it/s]"
     ]
    },
    {
     "name": "stdout",
     "output_type": "stream",
     "text": [
      "Processed /n/home12/cfpark00/ML/llm-meta-rl/data/verl/grpo_toy_multistep/v3_1_nm1/global_step_400/actor/state_dict.pt -> /n/home12/cfpark00/ML/llm-meta-rl/data/verl/grpo_toy_multistep/v3_1_nm1/global_step_400/actor/state_dict-hf\n"
     ]
    },
    {
     "name": "stderr",
     "output_type": "stream",
     "text": [
      "100%|██████████| 1/1 [00:01<00:00,  1.57s/it]\n",
      "Sliding Window Attention is enabled but not implemented for `sdpa`; unexpected results may be encountered.\n",
      "  0%|          | 0/1 [00:00<?, ?it/s]"
     ]
    },
    {
     "name": "stdout",
     "output_type": "stream",
     "text": [
      "Processed /n/home12/cfpark00/ML/llm-meta-rl/data/verl/grpo_toy_multistep/v3_1_nm1/global_step_1400/actor/state_dict.pt -> /n/home12/cfpark00/ML/llm-meta-rl/data/verl/grpo_toy_multistep/v3_1_nm1/global_step_1400/actor/state_dict-hf\n"
     ]
    },
    {
     "name": "stderr",
     "output_type": "stream",
     "text": [
      "100%|██████████| 1/1 [00:01<00:00,  1.63s/it]\n",
      "Sliding Window Attention is enabled but not implemented for `sdpa`; unexpected results may be encountered.\n",
      "  0%|          | 0/1 [00:00<?, ?it/s]"
     ]
    },
    {
     "name": "stdout",
     "output_type": "stream",
     "text": [
      "Processed /n/home12/cfpark00/ML/llm-meta-rl/data/verl/grpo_toy_multistep/v3_1_nm1/global_step_240/actor/state_dict.pt -> /n/home12/cfpark00/ML/llm-meta-rl/data/verl/grpo_toy_multistep/v3_1_nm1/global_step_240/actor/state_dict-hf\n"
     ]
    },
    {
     "name": "stderr",
     "output_type": "stream",
     "text": [
      "100%|██████████| 1/1 [00:01<00:00,  1.52s/it]\n",
      "Sliding Window Attention is enabled but not implemented for `sdpa`; unexpected results may be encountered.\n",
      "  0%|          | 0/1 [00:00<?, ?it/s]"
     ]
    },
    {
     "name": "stdout",
     "output_type": "stream",
     "text": [
      "Processed /n/home12/cfpark00/ML/llm-meta-rl/data/verl/grpo_toy_multistep/v3_1_nm1/global_step_1080/actor/state_dict.pt -> /n/home12/cfpark00/ML/llm-meta-rl/data/verl/grpo_toy_multistep/v3_1_nm1/global_step_1080/actor/state_dict-hf\n"
     ]
    },
    {
     "name": "stderr",
     "output_type": "stream",
     "text": [
      "100%|██████████| 1/1 [00:01<00:00,  1.57s/it]\n",
      "Sliding Window Attention is enabled but not implemented for `sdpa`; unexpected results may be encountered.\n",
      "  0%|          | 0/1 [00:00<?, ?it/s]"
     ]
    },
    {
     "name": "stdout",
     "output_type": "stream",
     "text": [
      "Processed /n/home12/cfpark00/ML/llm-meta-rl/data/verl/grpo_toy_multistep/v3_1_nm1/global_step_1120/actor/state_dict.pt -> /n/home12/cfpark00/ML/llm-meta-rl/data/verl/grpo_toy_multistep/v3_1_nm1/global_step_1120/actor/state_dict-hf\n"
     ]
    },
    {
     "name": "stderr",
     "output_type": "stream",
     "text": [
      "100%|██████████| 1/1 [00:01<00:00,  1.63s/it]\n",
      "Sliding Window Attention is enabled but not implemented for `sdpa`; unexpected results may be encountered.\n",
      "  0%|          | 0/1 [00:00<?, ?it/s]"
     ]
    },
    {
     "name": "stdout",
     "output_type": "stream",
     "text": [
      "Processed /n/home12/cfpark00/ML/llm-meta-rl/data/verl/grpo_toy_multistep/v3_1_nm1/global_step_880/actor/state_dict.pt -> /n/home12/cfpark00/ML/llm-meta-rl/data/verl/grpo_toy_multistep/v3_1_nm1/global_step_880/actor/state_dict-hf\n"
     ]
    },
    {
     "name": "stderr",
     "output_type": "stream",
     "text": [
      "100%|██████████| 1/1 [00:01<00:00,  1.57s/it]\n",
      "Sliding Window Attention is enabled but not implemented for `sdpa`; unexpected results may be encountered.\n",
      "  0%|          | 0/1 [00:00<?, ?it/s]"
     ]
    },
    {
     "name": "stdout",
     "output_type": "stream",
     "text": [
      "Processed /n/home12/cfpark00/ML/llm-meta-rl/data/verl/grpo_toy_multistep/v3_1_nm1/global_step_40/actor/state_dict.pt -> /n/home12/cfpark00/ML/llm-meta-rl/data/verl/grpo_toy_multistep/v3_1_nm1/global_step_40/actor/state_dict-hf\n"
     ]
    },
    {
     "name": "stderr",
     "output_type": "stream",
     "text": [
      "100%|██████████| 1/1 [00:01<00:00,  1.59s/it]\n",
      "Sliding Window Attention is enabled but not implemented for `sdpa`; unexpected results may be encountered.\n",
      "  0%|          | 0/1 [00:00<?, ?it/s]"
     ]
    },
    {
     "name": "stdout",
     "output_type": "stream",
     "text": [
      "Processed /n/home12/cfpark00/ML/llm-meta-rl/data/verl/grpo_toy_multistep/v3_1_nm1/global_step_120/actor/state_dict.pt -> /n/home12/cfpark00/ML/llm-meta-rl/data/verl/grpo_toy_multistep/v3_1_nm1/global_step_120/actor/state_dict-hf\n"
     ]
    },
    {
     "name": "stderr",
     "output_type": "stream",
     "text": [
      "100%|██████████| 1/1 [00:01<00:00,  1.46s/it]\n",
      "Sliding Window Attention is enabled but not implemented for `sdpa`; unexpected results may be encountered.\n",
      "  0%|          | 0/1 [00:00<?, ?it/s]"
     ]
    },
    {
     "name": "stdout",
     "output_type": "stream",
     "text": [
      "Processed /n/home12/cfpark00/ML/llm-meta-rl/data/verl/grpo_toy_multistep/v3_1_nm1/global_step_480/actor/state_dict.pt -> /n/home12/cfpark00/ML/llm-meta-rl/data/verl/grpo_toy_multistep/v3_1_nm1/global_step_480/actor/state_dict-hf\n"
     ]
    },
    {
     "name": "stderr",
     "output_type": "stream",
     "text": [
      "100%|██████████| 1/1 [00:01<00:00,  1.61s/it]\n",
      "Sliding Window Attention is enabled but not implemented for `sdpa`; unexpected results may be encountered.\n",
      "  0%|          | 0/1 [00:00<?, ?it/s]"
     ]
    },
    {
     "name": "stdout",
     "output_type": "stream",
     "text": [
      "Processed /n/home12/cfpark00/ML/llm-meta-rl/data/verl/grpo_toy_multistep/v3_1_nm1/global_step_1200/actor/state_dict.pt -> /n/home12/cfpark00/ML/llm-meta-rl/data/verl/grpo_toy_multistep/v3_1_nm1/global_step_1200/actor/state_dict-hf\n"
     ]
    },
    {
     "name": "stderr",
     "output_type": "stream",
     "text": [
      "100%|██████████| 1/1 [00:01<00:00,  1.45s/it]\n",
      "Sliding Window Attention is enabled but not implemented for `sdpa`; unexpected results may be encountered.\n",
      "  0%|          | 0/1 [00:00<?, ?it/s]"
     ]
    },
    {
     "name": "stdout",
     "output_type": "stream",
     "text": [
      "Processed /n/home12/cfpark00/ML/llm-meta-rl/data/verl/grpo_toy_multistep/v3_1_nm1/global_step_920/actor/state_dict.pt -> /n/home12/cfpark00/ML/llm-meta-rl/data/verl/grpo_toy_multistep/v3_1_nm1/global_step_920/actor/state_dict-hf\n"
     ]
    },
    {
     "name": "stderr",
     "output_type": "stream",
     "text": [
      "100%|██████████| 1/1 [00:03<00:00,  3.53s/it]\n",
      "Sliding Window Attention is enabled but not implemented for `sdpa`; unexpected results may be encountered.\n",
      "  0%|          | 0/1 [00:00<?, ?it/s]"
     ]
    },
    {
     "name": "stdout",
     "output_type": "stream",
     "text": [
      "Processed /n/home12/cfpark00/ML/llm-meta-rl/data/verl/grpo_toy_multistep/v3_1_nm1/global_step_960/actor/state_dict.pt -> /n/home12/cfpark00/ML/llm-meta-rl/data/verl/grpo_toy_multistep/v3_1_nm1/global_step_960/actor/state_dict-hf\n"
     ]
    },
    {
     "name": "stderr",
     "output_type": "stream",
     "text": [
      "100%|██████████| 1/1 [00:01<00:00,  1.65s/it]\n",
      "Sliding Window Attention is enabled but not implemented for `sdpa`; unexpected results may be encountered.\n",
      "  0%|          | 0/1 [00:00<?, ?it/s]"
     ]
    },
    {
     "name": "stdout",
     "output_type": "stream",
     "text": [
      "Processed /n/home12/cfpark00/ML/llm-meta-rl/data/verl/grpo_toy_multistep/v3_1_nm1/global_step_200/actor/state_dict.pt -> /n/home12/cfpark00/ML/llm-meta-rl/data/verl/grpo_toy_multistep/v3_1_nm1/global_step_200/actor/state_dict-hf\n"
     ]
    },
    {
     "name": "stderr",
     "output_type": "stream",
     "text": [
      "100%|██████████| 1/1 [00:01<00:00,  1.58s/it]\n",
      "Sliding Window Attention is enabled but not implemented for `sdpa`; unexpected results may be encountered.\n",
      "  0%|          | 0/1 [00:00<?, ?it/s]"
     ]
    },
    {
     "name": "stdout",
     "output_type": "stream",
     "text": [
      "Processed /n/home12/cfpark00/ML/llm-meta-rl/data/verl/grpo_toy_multistep/v3_1_nm1/global_step_1280/actor/state_dict.pt -> /n/home12/cfpark00/ML/llm-meta-rl/data/verl/grpo_toy_multistep/v3_1_nm1/global_step_1280/actor/state_dict-hf\n"
     ]
    },
    {
     "name": "stderr",
     "output_type": "stream",
     "text": [
      "100%|██████████| 1/1 [00:01<00:00,  1.55s/it]\n",
      "Sliding Window Attention is enabled but not implemented for `sdpa`; unexpected results may be encountered.\n",
      "  0%|          | 0/1 [00:00<?, ?it/s]"
     ]
    },
    {
     "name": "stdout",
     "output_type": "stream",
     "text": [
      "Processed /n/home12/cfpark00/ML/llm-meta-rl/data/verl/grpo_toy_multistep/v3_1_nm1/global_step_680/actor/state_dict.pt -> /n/home12/cfpark00/ML/llm-meta-rl/data/verl/grpo_toy_multistep/v3_1_nm1/global_step_680/actor/state_dict-hf\n"
     ]
    },
    {
     "name": "stderr",
     "output_type": "stream",
     "text": [
      "100%|██████████| 1/1 [00:01<00:00,  1.47s/it]\n",
      "Sliding Window Attention is enabled but not implemented for `sdpa`; unexpected results may be encountered.\n",
      "  0%|          | 0/1 [00:00<?, ?it/s]"
     ]
    },
    {
     "name": "stdout",
     "output_type": "stream",
     "text": [
      "Processed /n/home12/cfpark00/ML/llm-meta-rl/data/verl/grpo_toy_multistep/v3_1_nm1/global_step_1320/actor/state_dict.pt -> /n/home12/cfpark00/ML/llm-meta-rl/data/verl/grpo_toy_multistep/v3_1_nm1/global_step_1320/actor/state_dict-hf\n"
     ]
    },
    {
     "name": "stderr",
     "output_type": "stream",
     "text": [
      "100%|██████████| 1/1 [00:02<00:00,  2.23s/it]\n",
      "Sliding Window Attention is enabled but not implemented for `sdpa`; unexpected results may be encountered.\n",
      "  0%|          | 0/1 [00:00<?, ?it/s]"
     ]
    },
    {
     "name": "stdout",
     "output_type": "stream",
     "text": [
      "Processed /n/home12/cfpark00/ML/llm-meta-rl/data/verl/grpo_toy_multistep/v3_1_nm1/global_step_1240/actor/state_dict.pt -> /n/home12/cfpark00/ML/llm-meta-rl/data/verl/grpo_toy_multistep/v3_1_nm1/global_step_1240/actor/state_dict-hf\n"
     ]
    },
    {
     "name": "stderr",
     "output_type": "stream",
     "text": [
      "100%|██████████| 1/1 [00:01<00:00,  1.58s/it]\n",
      "Sliding Window Attention is enabled but not implemented for `sdpa`; unexpected results may be encountered.\n",
      "  0%|          | 0/1 [00:00<?, ?it/s]"
     ]
    },
    {
     "name": "stdout",
     "output_type": "stream",
     "text": [
      "Processed /n/home12/cfpark00/ML/llm-meta-rl/data/verl/grpo_toy_multistep/v3_1_nm1/global_step_1480/actor/state_dict.pt -> /n/home12/cfpark00/ML/llm-meta-rl/data/verl/grpo_toy_multistep/v3_1_nm1/global_step_1480/actor/state_dict-hf\n"
     ]
    },
    {
     "name": "stderr",
     "output_type": "stream",
     "text": [
      "100%|██████████| 1/1 [00:01<00:00,  1.93s/it]\n",
      "Sliding Window Attention is enabled but not implemented for `sdpa`; unexpected results may be encountered.\n",
      "  0%|          | 0/1 [00:00<?, ?it/s]"
     ]
    },
    {
     "name": "stdout",
     "output_type": "stream",
     "text": [
      "Processed /n/home12/cfpark00/ML/llm-meta-rl/data/verl/grpo_toy_multistep/v3_1_nm1/global_step_1160/actor/state_dict.pt -> /n/home12/cfpark00/ML/llm-meta-rl/data/verl/grpo_toy_multistep/v3_1_nm1/global_step_1160/actor/state_dict-hf\n"
     ]
    },
    {
     "name": "stderr",
     "output_type": "stream",
     "text": [
      "100%|██████████| 1/1 [00:01<00:00,  1.46s/it]\n",
      "Sliding Window Attention is enabled but not implemented for `sdpa`; unexpected results may be encountered.\n",
      "  0%|          | 0/1 [00:00<?, ?it/s]"
     ]
    },
    {
     "name": "stdout",
     "output_type": "stream",
     "text": [
      "Processed /n/home12/cfpark00/ML/llm-meta-rl/data/verl/grpo_toy_multistep/v3_1_nm1/global_step_640/actor/state_dict.pt -> /n/home12/cfpark00/ML/llm-meta-rl/data/verl/grpo_toy_multistep/v3_1_nm1/global_step_640/actor/state_dict-hf\n"
     ]
    },
    {
     "name": "stderr",
     "output_type": "stream",
     "text": [
      "100%|██████████| 1/1 [00:01<00:00,  1.92s/it]\n",
      "Sliding Window Attention is enabled but not implemented for `sdpa`; unexpected results may be encountered.\n",
      "  0%|          | 0/1 [00:00<?, ?it/s]"
     ]
    },
    {
     "name": "stdout",
     "output_type": "stream",
     "text": [
      "Processed /n/home12/cfpark00/ML/llm-meta-rl/data/verl/grpo_toy_multistep/v3_1_nm1/global_step_1000/actor/state_dict.pt -> /n/home12/cfpark00/ML/llm-meta-rl/data/verl/grpo_toy_multistep/v3_1_nm1/global_step_1000/actor/state_dict-hf\n"
     ]
    },
    {
     "name": "stderr",
     "output_type": "stream",
     "text": [
      "100%|██████████| 1/1 [00:01<00:00,  1.71s/it]\n",
      "Sliding Window Attention is enabled but not implemented for `sdpa`; unexpected results may be encountered.\n",
      "  0%|          | 0/1 [00:00<?, ?it/s]"
     ]
    },
    {
     "name": "stdout",
     "output_type": "stream",
     "text": [
      "Processed /n/home12/cfpark00/ML/llm-meta-rl/data/verl/grpo_toy_multistep/v3_1_nm1/global_step_1440/actor/state_dict.pt -> /n/home12/cfpark00/ML/llm-meta-rl/data/verl/grpo_toy_multistep/v3_1_nm1/global_step_1440/actor/state_dict-hf\n"
     ]
    },
    {
     "name": "stderr",
     "output_type": "stream",
     "text": [
      "100%|██████████| 1/1 [00:01<00:00,  1.68s/it]\n",
      "Sliding Window Attention is enabled but not implemented for `sdpa`; unexpected results may be encountered.\n",
      "  0%|          | 0/1 [00:00<?, ?it/s]"
     ]
    },
    {
     "name": "stdout",
     "output_type": "stream",
     "text": [
      "Processed /n/home12/cfpark00/ML/llm-meta-rl/data/verl/grpo_toy_multistep/v3_1_nm1/global_step_760/actor/state_dict.pt -> /n/home12/cfpark00/ML/llm-meta-rl/data/verl/grpo_toy_multistep/v3_1_nm1/global_step_760/actor/state_dict-hf\n"
     ]
    },
    {
     "name": "stderr",
     "output_type": "stream",
     "text": [
      "100%|██████████| 1/1 [00:00<00:00,  1.52it/s]\n",
      "Sliding Window Attention is enabled but not implemented for `sdpa`; unexpected results may be encountered.\n",
      "  0%|          | 0/1 [00:00<?, ?it/s]"
     ]
    },
    {
     "name": "stdout",
     "output_type": "stream",
     "text": [
      "Processed /n/home12/cfpark00/ML/llm-meta-rl/data/verl/grpo_toy_multistep/v3_1_nm1/global_step_800/actor/state_dict.pt -> /n/home12/cfpark00/ML/llm-meta-rl/data/verl/grpo_toy_multistep/v3_1_nm1/global_step_800/actor/state_dict-hf\n"
     ]
    },
    {
     "name": "stderr",
     "output_type": "stream",
     "text": [
      "100%|██████████| 1/1 [00:00<00:00,  1.36it/s]\n",
      "Sliding Window Attention is enabled but not implemented for `sdpa`; unexpected results may be encountered.\n",
      "  0%|          | 0/1 [00:00<?, ?it/s]"
     ]
    },
    {
     "name": "stdout",
     "output_type": "stream",
     "text": [
      "Processed /n/home12/cfpark00/ML/llm-meta-rl/data/verl/grpo_toy_multistep/v3_1_nm1/global_step_80/actor/state_dict.pt -> /n/home12/cfpark00/ML/llm-meta-rl/data/verl/grpo_toy_multistep/v3_1_nm1/global_step_80/actor/state_dict-hf\n"
     ]
    },
    {
     "name": "stderr",
     "output_type": "stream",
     "text": [
      "100%|██████████| 1/1 [00:00<00:00,  1.40it/s]\n",
      "Sliding Window Attention is enabled but not implemented for `sdpa`; unexpected results may be encountered.\n",
      "  0%|          | 0/1 [00:00<?, ?it/s]"
     ]
    },
    {
     "name": "stdout",
     "output_type": "stream",
     "text": [
      "Processed /n/home12/cfpark00/ML/llm-meta-rl/data/verl/grpo_toy_multistep/v3_1_nm1/global_step_560/actor/state_dict.pt -> /n/home12/cfpark00/ML/llm-meta-rl/data/verl/grpo_toy_multistep/v3_1_nm1/global_step_560/actor/state_dict-hf\n"
     ]
    },
    {
     "name": "stderr",
     "output_type": "stream",
     "text": [
      "100%|██████████| 1/1 [00:00<00:00,  1.39it/s]\n",
      "Sliding Window Attention is enabled but not implemented for `sdpa`; unexpected results may be encountered.\n",
      "  0%|          | 0/1 [00:00<?, ?it/s]"
     ]
    },
    {
     "name": "stdout",
     "output_type": "stream",
     "text": [
      "Processed /n/home12/cfpark00/ML/llm-meta-rl/data/verl/grpo_toy_multistep/v3_1_nm1/global_step_1360/actor/state_dict.pt -> /n/home12/cfpark00/ML/llm-meta-rl/data/verl/grpo_toy_multistep/v3_1_nm1/global_step_1360/actor/state_dict-hf\n"
     ]
    },
    {
     "name": "stderr",
     "output_type": "stream",
     "text": [
      "100%|██████████| 1/1 [00:00<00:00,  1.38it/s]\n",
      "Sliding Window Attention is enabled but not implemented for `sdpa`; unexpected results may be encountered.\n",
      "  0%|          | 0/1 [00:00<?, ?it/s]"
     ]
    },
    {
     "name": "stdout",
     "output_type": "stream",
     "text": [
      "Processed /n/home12/cfpark00/ML/llm-meta-rl/data/verl/grpo_toy_multistep/v3_1_nm1/global_step_840/actor/state_dict.pt -> /n/home12/cfpark00/ML/llm-meta-rl/data/verl/grpo_toy_multistep/v3_1_nm1/global_step_840/actor/state_dict-hf\n"
     ]
    },
    {
     "name": "stderr",
     "output_type": "stream",
     "text": [
      "100%|██████████| 1/1 [00:00<00:00,  1.48it/s]\n"
     ]
    }
   ],
   "source": [
    "for nm in [0,1]:#,2,3,4]:\n",
    "    fol=f\"/n/home12/cfpark00/ML/llm-meta-rl/data/verl/grpo_toy_multistep/v3_1_nm{nm}\"\n",
    "    subprocess.call(f\"python3 /n/home12/cfpark00/ML/llm-meta-rl/verl/scripts/merge_state_dicts.py {fol}\", shell=True)\n",
    "    steps=[]\n",
    "    for f in glob.glob(f\"{fol}/global_step_*\"):\n",
    "        steps.append(int(f.split(\"_\")[-1]))\n",
    "        subprocess.call(f\"python3 /n/home12/cfpark00/ML/llm-meta-rl/verl/scripts/save_hf.py {f}/actor/state_dict.pt --model_name /n/home12/cfpark00/ML/toy-multistep-reasoning/data/sft/v3/toy-multistep-v3-test/checkpoint-3125\", shell=True)\n",
    "        pass\n",
    "    fol=os.path.join(save_dir,f\"v3_1_nm{nm}\")\n",
    "    os.makedirs(fol, exist_ok=True)\n",
    "    for step in steps:\n",
    "        f=os.path.join(fol,f\"checkpoint-{step}\")\n",
    "        os.makedirs(os.path.dirname(f), exist_ok=True)\n",
    "        shutil.copytree(f\"/n/home12/cfpark00/ML/llm-meta-rl/data/verl/grpo_toy_multistep/v3_1_nm{nm}/global_step_{step}/actor/state_dict-hf\",f,dirs_exist_ok=True)\n"
   ]
  },
  {
   "cell_type": "code",
   "execution_count": null,
   "metadata": {},
   "outputs": [],
   "source": []
  },
  {
   "cell_type": "code",
   "execution_count": null,
   "metadata": {},
   "outputs": [],
   "source": []
  },
  {
   "cell_type": "code",
   "execution_count": null,
   "metadata": {},
   "outputs": [],
   "source": []
  },
  {
   "cell_type": "code",
   "execution_count": null,
   "metadata": {},
   "outputs": [],
   "source": []
  }
 ],
 "metadata": {
  "kernelspec": {
   "display_name": "verl",
   "language": "python",
   "name": "python3"
  },
  "language_info": {
   "codemirror_mode": {
    "name": "ipython",
    "version": 3
   },
   "file_extension": ".py",
   "mimetype": "text/x-python",
   "name": "python",
   "nbconvert_exporter": "python",
   "pygments_lexer": "ipython3",
   "version": "3.9.0"
  }
 },
 "nbformat": 4,
 "nbformat_minor": 2
}
